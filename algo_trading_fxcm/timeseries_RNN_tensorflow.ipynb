{
 "cells": [
  {
   "cell_type": "code",
   "execution_count": 2,
   "metadata": {},
   "outputs": [
    {
     "name": "stdout",
     "output_type": "stream",
     "text": [
      "1.11.0\n"
     ]
    }
   ],
   "source": [
    "import tensorflow as tf\n",
    "print(tf.__version__)\n",
    "\n",
    "import shutil\n",
    "from tensorflow.contrib.learn import ModeKeys\n",
    "import tensorflow.contrib.rnn as rnn"
   ]
  },
  {
   "cell_type": "code",
   "execution_count": 3,
   "metadata": {},
   "outputs": [],
   "source": [
    "import numpy as np\n",
    "import pandas as pd\n",
    "import matplotlib.pyplot as plt\n",
    "import seaborn as sns\n",
    "import shutil"
   ]
  },
  {
   "cell_type": "code",
   "execution_count": 4,
   "metadata": {},
   "outputs": [],
   "source": [
    "SEQ_LEN = 10\n",
    "def create_time_series():\n",
    "  freq = (np.random.random()*0.5) + 0.1  # 0.1 to 0.6\n",
    "  ampl = np.random.random() + 0.5  # 0.5 to 1.5\n",
    "  x = np.sin(np.arange(0,SEQ_LEN) * freq) * ampl\n",
    "  return x"
   ]
  },
  {
   "cell_type": "code",
   "execution_count": 7,
   "metadata": {},
   "outputs": [
    {
     "name": "stderr",
     "output_type": "stream",
     "text": [
      "/usr/local/lib/python3.6/site-packages/seaborn/timeseries.py:183: UserWarning: The `tsplot` function is deprecated and will be removed in a future release. Please update your code to use the new `lineplot` function.\n",
      "  warnings.warn(msg, UserWarning)\n",
      "/usr/local/lib/python3.6/site-packages/scipy/stats/stats.py:1713: FutureWarning: Using a non-tuple sequence for multidimensional indexing is deprecated; use `arr[tuple(seq)]` instead of `arr[seq]`. In the future this will be interpreted as an array index, `arr[np.array(seq)]`, which will result either in an error or a different result.\n",
      "  return np.add.reduce(sorted[indexer] * weights, axis=axis) / sumval\n",
      "/usr/local/lib/python3.6/site-packages/seaborn/timeseries.py:183: UserWarning: The `tsplot` function is deprecated and will be removed in a future release. Please update your code to use the new `lineplot` function.\n",
      "  warnings.warn(msg, UserWarning)\n"
     ]
    },
    {
     "data": {
      "text/plain": [
       "<matplotlib.axes._subplots.AxesSubplot at 0x128c1bf28>"
      ]
     },
     "execution_count": 7,
     "metadata": {},
     "output_type": "execute_result"
    },
    {
     "data": {
      "image/png": "[encoded data removed]",
      "text/plain": [
       "<Figure size 432x288 with 1 Axes>"
      ]
     },
     "metadata": {
      "needs_background": "light"
     },
     "output_type": "display_data"
    }
   ],
   "source": [
    "# Random examples\n",
    "sns.tsplot([create_time_series() for i in range(20)])\n",
    "sns.tsplot([create_time_series() for i in range(5)], color='red')"
   ]
  },
  {
   "cell_type": "code",
   "execution_count": 30,
   "metadata": {},
   "outputs": [],
   "source": [
    "# Outputs\n",
    "test_out = \"../data/algo_trading_fxcm/train.csv\"\n",
    "valid_out = \"../data/algo_trading_fxcm/valid.csv\"\n",
    "\n",
    "# Create training and testing data\n",
    "train_df = pd.DataFrame(data=[create_time_series() for i in range(50000)])\n",
    "test_df = pd.DataFrame(data=[create_time_series() for i in range(5000)])\n",
    "\n",
    "def to_csv(filename, N):\n",
    "  with open(filename, 'w') as ofp:\n",
    "    for lineno in range(N):\n",
    "      seq = create_time_series()\n",
    "      line = \",\".join(map(str, seq))\n",
    "      ofp.write(line + '\\n')\n",
    "\n",
    "to_csv(test_out, 50000)  # 1000 sequences\n",
    "to_csv(valid_out,  1000)"
   ]
  },
  {
   "cell_type": "code",
   "execution_count": 31,
   "metadata": {},
   "outputs": [
    {
     "name": "stdout",
     "output_type": "stream",
     "text": [
      "==> ../data/algo_trading_fxcm/train.csv <==\r\n",
      "0.0,0.2579716144023278,0.4584074941462291,0.5566041720704373,0.5306607191968717,0.3863633365543359,0.15589485146226648,-0.10934305905332696,-0.35019404914355395,-0.5129408185924355\r\n",
      "0.0,0.5621774961371417,0.9773768634770209,1.1370465742392803,0.9994418850382614,0.6005387640894562,0.04462817766473486,-0.5229501935608105,-0.9538061925251513,-1.1352949536049122\r\n",
      "0.0,0.370653184487713,0.7138586914249566,1.0042014037098,1.2201808095985285,1.3458031625418743,1.371765853035791,1.2961462871654188,1.124544258882036,0.869667273035058\r\n",
      "0.0,0.15271895711951872,0.2994833525545798,0.43457079491263156,0.5527141809899303,0.6493070618342517,0.7205832496840016,0.7637636628508984,0.777164683016612,0.7602638000572098\r\n",
      "0.0,0.21966115434352643,0.40508072403434975,0.5273548279524299,0.5674229312815081,0.519039071433815,0.38974550155716187,0.19969697651119894,-0.02148104408227084,-0.239310520908092\r\n",
      "\r\n",
      "==> ../data/algo_trading_fxcm/valid.csv <==\r\n",
      "0.0,0.118057176962828,0.2340880152567659,0.3461009563805227,0.4521734051996521,0.5504847294554842,0.6393475091786922,0.7172364996411654,0.7828148107247823,0.8349568533632292\r\n",
      "0.0,0.31191801126885543,0.599249554536117,0.8393461531535416,1.0132825539265942,1.1073484817271322,1.1141293313052054,1.0330906123936543,0.8706200800993542,0.6395242297163928\r\n",
      "0.0,0.46668593066297354,0.8262009551536115,0.9959851580647876,0.9370488770043031,0.6629263846653731,0.2365678451218276,-0.24411671684310582,-0.6687417148980557,-0.9397952189954899\r\n",
      "0.0,0.3877688226708846,0.7380888667425158,1.0171279698482618,1.1979379273316322,1.263057015427171,1.2061963574379886,1.0328472720765545,0.759750949295608,0.4132816696720436\r\n",
      "0.0,0.6243156941987102,1.0636446389796745,1.187812254117953,0.9600272756411343,0.4477831257491839,-0.19714060539656497,-0.7836509407083949,-1.1379629802752125,-1.1550929264957739\r\n"
     ]
    }
   ],
   "source": [
    "!head -5 ../data/algo_trading_fxcm/train.csv ../data/algo_trading_fxcm/valid.csv"
   ]
  },
  {
   "cell_type": "markdown",
   "metadata": {},
   "source": [
    "#### Estimator in Tensorflow expects an `input_fn` to read the data, a function that returns `inputs` and `labels` rather than x and y. The `inputs` is a dictionary (name to tensor) and the `labels` is a tensor.\n",
    "\n",
    "#### Reading in batches of `BATCH_SIZE = 20` lines at a time, specifying the data types for the tensors in `DEFAULTS`. `BATCH_SIZE` will have to be tuned properly"
   ]
  },
  {
   "cell_type": "code",
   "execution_count": 20,
   "metadata": {},
   "outputs": [],
   "source": [
    "DEFAULTS = [[0.0] for x in range(SEQ_LEN)]\n",
    "BATCH_SIZE = 20\n",
    "TIMESERIES_COL = 'rawdata'\n",
    "N_OUTPUTS = 2  # in each sequence, 1-8 are features, and 9-10 is label\n",
    "N_INPUTS = SEQ_LEN - N_OUTPUTS"
   ]
  },
  {
   "cell_type": "code",
   "execution_count": null,
   "metadata": {},
   "outputs": [],
   "source": []
  },
  {
   "cell_type": "markdown",
   "metadata": {},
   "source": [
    "#### The Estimator API `input_fn` takes no parameters, so here we have a function `read_dataset` that can be used to specify files on the CLI."
   ]
  },
  {
   "cell_type": "code",
   "execution_count": 21,
   "metadata": {},
   "outputs": [],
   "source": [
    "# read data and convert to needed format\n",
    "def read_dataset(filename, mode=ModeKeys.TRAIN):\n",
    "  def _input_fn():\n",
    "    num_epochs = 100 if mode == ModeKeys.TRAIN else 1\n",
    "    \n",
    "    # could be a path to one file or a file pattern.\n",
    "    input_file_names = tf.train.match_filenames_once(filename)\n",
    "    \n",
    "\n",
    "    filename_queue = tf.train.string_input_producer(\n",
    "        input_file_names, num_epochs=num_epochs, shuffle=True)\n",
    "    reader = tf.TextLineReader()\n",
    "    _, value = reader.read_up_to(filename_queue, num_records=BATCH_SIZE)\n",
    "\n",
    "    value_column = tf.expand_dims(value, -1, name='value')\n",
    "    print('readcsv={}'.format(value_column))\n",
    "    \n",
    "    # all_data is a list of tensors\n",
    "    all_data = tf.decode_csv(value_column, record_defaults=DEFAULTS)  \n",
    "    inputs = all_data[:len(all_data)-N_OUTPUTS]  # first few values\n",
    "    label = all_data[len(all_data)-N_OUTPUTS : ] # last few values\n",
    "    \n",
    "    # from list of tensors to tensor with one more dimension\n",
    "    inputs = tf.concat(inputs, axis=1)\n",
    "    label = tf.concat(label, axis=1)\n",
    "    print('inputs={}'.format(inputs))\n",
    "\n",
    "    return {TIMESERIES_COL: inputs}, label   # dict of features, label\n",
    "\n",
    "  return _input_fn"
   ]
  },
  {
   "cell_type": "markdown",
   "metadata": {},
   "source": [
    "#### Define the RNN as Estimator does not come with an out-of-the-box RNN. It has LinearRegression, DNNLinearRegressor, DNNLinearCombinedRegressor, etc."
   ]
  },
  {
   "cell_type": "code",
   "execution_count": 22,
   "metadata": {},
   "outputs": [],
   "source": [
    "LSTM_SIZE = 3  # number of hidden layers in each of the LSTM cells\n",
    "\n",
    "# create the inference model\n",
    "def simple_rnn(features, labels, mode, params):\n",
    "  # 0. Reformat input shape to become a sequence\n",
    "  x = tf.split(features[TIMESERIES_COL], N_INPUTS, 1)\n",
    "  #print 'x={}'.format(x)\n",
    "    \n",
    "  # 1. configure the RNN\n",
    "  lstm_cell = rnn.BasicLSTMCell(LSTM_SIZE, forget_bias=1.0)\n",
    "  outputs, _ = tf.nn.static_rnn(lstm_cell, x, dtype=tf.float32)\n",
    "\n",
    "  # slice to keep only the last cell of the RNN\n",
    "  outputs = outputs[-1]\n",
    "  #print 'last outputs={}'.format(outputs)\n",
    "  \n",
    "  # output is result of linear activation of last layer of RNN\n",
    "  weight = tf.Variable(tf.random_normal([LSTM_SIZE, N_OUTPUTS]))\n",
    "  bias = tf.Variable(tf.random_normal([N_OUTPUTS]))\n",
    "  predictions = tf.matmul(outputs, weight) + bias\n",
    "    \n",
    "  # 2. loss function, training/eval ops\n",
    "  if mode == ModeKeys.TRAIN or mode == ModeKeys.EVAL:\n",
    "     loss = tf.losses.mean_squared_error(labels, predictions)\n",
    "     train_op = tf.contrib.layers.optimize_loss(\n",
    "         loss=loss,\n",
    "         global_step=tf.train.get_global_step(),\n",
    "         learning_rate=0.01,\n",
    "         optimizer=\"SGD\")\n",
    "     eval_metric_ops = {\n",
    "      \"rmse\": tf.metrics.root_mean_squared_error(labels, predictions)\n",
    "     }\n",
    "  else:\n",
    "     loss = None\n",
    "     train_op = None\n",
    "     eval_metric_ops = None\n",
    "  \n",
    "  # 3. Create predictions\n",
    "  predictions_dict = {\"predicted\": predictions}\n",
    "\n",
    "  # 4. Create export outputs  \n",
    "  export_outputs = {\"predicted\": tf.estimator.export.PredictOutput(predictions)}\n",
    "\n",
    "  # 5. return ModelFnOps\n",
    "  return tf.estimator.EstimatorSpec(\n",
    "      mode=mode,\n",
    "      predictions=predictions_dict,\n",
    "      loss=loss,\n",
    "      train_op=train_op,\n",
    "      eval_metric_ops=eval_metric_ops,\n",
    "      export_outputs=export_outputs)"
   ]
  },
  {
   "cell_type": "code",
   "execution_count": null,
   "metadata": {},
   "outputs": [],
   "source": []
  },
  {
   "cell_type": "code",
   "execution_count": 32,
   "metadata": {},
   "outputs": [
    {
     "name": "stdout",
     "output_type": "stream",
     "text": [
      "INFO:tensorflow:Using default config.\n",
      "INFO:tensorflow:Using config: {'_model_dir': 'outputdir', '_tf_random_seed': None, '_save_summary_steps': 100, '_save_checkpoints_steps': None, '_save_checkpoints_secs': 600, '_session_config': allow_soft_placement: true\n",
      "graph_options {\n",
      "  rewrite_options {\n",
      "    meta_optimizer_iterations: ONE\n",
      "  }\n",
      "}\n",
      ", '_keep_checkpoint_max': 5, '_keep_checkpoint_every_n_hours': 10000, '_log_step_count_steps': 100, '_train_distribute': None, '_device_fn': None, '_protocol': None, '_eval_distribute': None, '_experimental_distribute': None, '_service': None, '_cluster_spec': <tensorflow.python.training.server_lib.ClusterSpec object at 0x12ba65c18>, '_task_type': 'worker', '_task_id': 0, '_global_id_in_cluster': 0, '_master': '', '_evaluation_master': '', '_is_chief': True, '_num_ps_replicas': 0, '_num_worker_replicas': 1}\n",
      "WARNING:tensorflow:Estimator's model_fn (<function simple_rnn at 0x12c533e18>) includes params argument, but params are not passed to Estimator.\n",
      "INFO:tensorflow:Running training and evaluation locally (non-distributed).\n",
      "INFO:tensorflow:Start train and evaluate loop. The evaluate will happen after every checkpoint. Checkpoint frequency is determined based on RunConfig arguments: save_checkpoints_steps None or save_checkpoints_secs 600.\n",
      "readcsv=Tensor(\"value:0\", shape=(?, 1), dtype=string, device=/device:CPU:0)\n",
      "inputs=Tensor(\"concat:0\", shape=(?, 8), dtype=float32, device=/device:CPU:0)\n",
      "INFO:tensorflow:Calling model_fn.\n",
      "INFO:tensorflow:Done calling model_fn.\n",
      "INFO:tensorflow:Create CheckpointSaverHook.\n",
      "INFO:tensorflow:Graph was finalized.\n",
      "INFO:tensorflow:Running local_init_op.\n",
      "INFO:tensorflow:Done running local_init_op.\n",
      "INFO:tensorflow:Saving checkpoints for 0 into outputdir/model.ckpt.\n",
      "INFO:tensorflow:loss = 0.89905626, step = 1\n",
      "INFO:tensorflow:global_step/sec: 141.272\n",
      "INFO:tensorflow:loss = 0.61242706, step = 101 (0.709 sec)\n",
      "INFO:tensorflow:global_step/sec: 375.136\n",
      "INFO:tensorflow:loss = 0.5924223, step = 201 (0.266 sec)\n",
      "INFO:tensorflow:global_step/sec: 390.636\n",
      "INFO:tensorflow:loss = 0.43920365, step = 301 (0.256 sec)\n",
      "INFO:tensorflow:global_step/sec: 327.629\n",
      "INFO:tensorflow:loss = 0.4755009, step = 401 (0.305 sec)\n",
      "INFO:tensorflow:global_step/sec: 337.013\n",
      "INFO:tensorflow:loss = 0.2098709, step = 501 (0.298 sec)\n",
      "INFO:tensorflow:global_step/sec: 392.212\n",
      "INFO:tensorflow:loss = 0.28090304, step = 601 (0.256 sec)\n",
      "INFO:tensorflow:global_step/sec: 419.756\n",
      "INFO:tensorflow:loss = 0.31168348, step = 701 (0.237 sec)\n",
      "INFO:tensorflow:global_step/sec: 390.362\n",
      "INFO:tensorflow:loss = 0.20210962, step = 801 (0.256 sec)\n",
      "INFO:tensorflow:global_step/sec: 398.689\n",
      "INFO:tensorflow:loss = 0.14292642, step = 901 (0.251 sec)\n",
      "INFO:tensorflow:Saving checkpoints for 1000 into outputdir/model.ckpt.\n",
      "readcsv=Tensor(\"value:0\", shape=(?, 1), dtype=string, device=/device:CPU:0)\n",
      "inputs=Tensor(\"concat:0\", shape=(?, 8), dtype=float32, device=/device:CPU:0)\n",
      "INFO:tensorflow:Calling model_fn.\n",
      "INFO:tensorflow:Done calling model_fn.\n",
      "INFO:tensorflow:Starting evaluation at 2018-10-17-18:16:00\n",
      "INFO:tensorflow:Graph was finalized.\n",
      "INFO:tensorflow:Restoring parameters from outputdir/model.ckpt-1000\n",
      "INFO:tensorflow:Running local_init_op.\n",
      "INFO:tensorflow:Done running local_init_op.\n",
      "INFO:tensorflow:Evaluation [10/100]\n",
      "INFO:tensorflow:Evaluation [20/100]\n",
      "INFO:tensorflow:Evaluation [30/100]\n",
      "INFO:tensorflow:Evaluation [40/100]\n",
      "INFO:tensorflow:Evaluation [50/100]\n",
      "INFO:tensorflow:Finished evaluation at 2018-10-17-18:16:01\n",
      "INFO:tensorflow:Saving dict for global step 1000: global_step = 1000, loss = 0.13771655, rmse = 0.37110177\n",
      "INFO:tensorflow:Saving 'checkpoint_path' summary for global step 1000: outputdir/model.ckpt-1000\n",
      "INFO:tensorflow:Performing the final export in the end of training.\n",
      "serving: features=Tensor(\"timeseries:0\", shape=(?, 8), dtype=float32)\n",
      "INFO:tensorflow:Calling model_fn.\n",
      "INFO:tensorflow:Done calling model_fn.\n",
      "INFO:tensorflow:Signatures INCLUDED in export for Classify: None\n",
      "INFO:tensorflow:Signatures INCLUDED in export for Regress: None\n",
      "INFO:tensorflow:Signatures INCLUDED in export for Predict: ['predicted', 'serving_default']\n",
      "INFO:tensorflow:Signatures INCLUDED in export for Train: None\n",
      "INFO:tensorflow:Signatures INCLUDED in export for Eval: None\n",
      "INFO:tensorflow:Restoring parameters from outputdir/model.ckpt-1000\n",
      "INFO:tensorflow:Assets added to graph.\n",
      "INFO:tensorflow:No assets to write.\n",
      "INFO:tensorflow:SavedModel written to: outputdir/export/timeseries/temp-b'1539800161'/saved_model.pb\n",
      "INFO:tensorflow:Loss for final step: 0.1407319.\n"
     ]
    }
   ],
   "source": [
    "def get_train():\n",
    "  return read_dataset('../data/algo_trading_fxcm/train.csv', mode=ModeKeys.TRAIN)\n",
    "\n",
    "def get_valid():\n",
    "  return read_dataset('../data/algo_trading_fxcm/valid.csv', mode=ModeKeys.EVAL)\n",
    "\n",
    "def serving_input_receiver_fn():\n",
    "  feature_placeholders = {\n",
    "    TIMESERIES_COL: tf.placeholder(tf.float32, [None, N_INPUTS])\n",
    "  }\n",
    "\n",
    "  features = {\n",
    "    key: tf.expand_dims(tensor, -1)\n",
    "    for key, tensor in feature_placeholders.items()\n",
    "  }\n",
    "\n",
    "  features[TIMESERIES_COL] = tf.squeeze(features[TIMESERIES_COL], axis=[2], name='timeseries')\n",
    "  \n",
    "  print('serving: features={}'.format(features[TIMESERIES_COL]))\n",
    "\n",
    "  return tf.estimator.export.ServingInputReceiver(features, feature_placeholders)\n",
    "\n",
    "\n",
    "def experiment_fn(output_dir):\n",
    "  train_spec = tf.estimator.TrainSpec(input_fn=get_train(), max_steps=1000)\n",
    "  exporter = tf.estimator.FinalExporter('timeseries',\n",
    "    serving_input_receiver_fn)\n",
    "  eval_spec = tf.estimator.EvalSpec(input_fn=get_valid(), \n",
    "    exporters=[exporter])\n",
    "\n",
    "  estimator = tf.estimator.Estimator(model_fn=simple_rnn, model_dir=output_dir)\n",
    "\n",
    "  tf.estimator.train_and_evaluate(estimator, train_spec, eval_spec)\n",
    "\n",
    "OUTPUT_DIR = 'outputdir'\n",
    "shutil.rmtree(OUTPUT_DIR, ignore_errors=True) # start fresh each time\n",
    "\n",
    "experiment_fn(OUTPUT_DIR)"
   ]
  },
  {
   "cell_type": "code",
   "execution_count": null,
   "metadata": {},
   "outputs": [],
   "source": []
  },
  {
   "cell_type": "code",
   "execution_count": null,
   "metadata": {},
   "outputs": [],
   "source": []
  },
  {
   "cell_type": "code",
   "execution_count": 36,
   "metadata": {},
   "outputs": [],
   "source": [
    "model = tf.estimator.Estimator.predict()"
   ]
  },
  {
   "cell_type": "code",
   "execution_count": null,
   "metadata": {},
   "outputs": [],
   "source": []
  }
 ],
 "metadata": {
  "kernelspec": {
   "display_name": "Python 3",
   "language": "python",
   "name": "python3"
  },
  "language_info": {
   "codemirror_mode": {
    "name": "ipython",
    "version": 3
   },
   "file_extension": ".py",
   "mimetype": "text/x-python",
   "name": "python",
   "nbconvert_exporter": "python",
   "pygments_lexer": "ipython3",
   "version": "3.6.5"
  }
 },
 "nbformat": 4,
 "nbformat_minor": 2
}
