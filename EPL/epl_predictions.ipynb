{
 "cells": [
  {
   "cell_type": "code",
   "execution_count": 109,
   "metadata": {},
   "outputs": [],
   "source": [
    "import matplotlib.pyplot as plt\n",
    "import seaborn as sns\n",
    "import pandas as pd\n",
    "import numpy as np\n",
    "import scipy as sp\n",
    "%matplotlib inline"
   ]
  },
  {
   "cell_type": "code",
   "execution_count": 3,
   "metadata": {},
   "outputs": [],
   "source": [
    "df = pd.read_csv(\"data/EPL/history.csv\")"
   ]
  },
  {
   "cell_type": "code",
   "execution_count": 4,
   "metadata": {},
   "outputs": [
    {
     "data": {
      "text/html": [
       "<div>\n",
       "<style scoped>\n",
       "    .dataframe tbody tr th:only-of-type {\n",
       "        vertical-align: middle;\n",
       "    }\n",
       "\n",
       "    .dataframe tbody tr th {\n",
       "        vertical-align: top;\n",
       "    }\n",
       "\n",
       "    .dataframe thead th {\n",
       "        text-align: right;\n",
       "    }\n",
       "</style>\n",
       "<table border=\"1\" class=\"dataframe\">\n",
       "  <thead>\n",
       "    <tr style=\"text-align: right;\">\n",
       "      <th></th>\n",
       "      <th>div</th>\n",
       "      <th>Date</th>\n",
       "      <th>HomeTeam</th>\n",
       "      <th>AwayTeam</th>\n",
       "      <th>FTHG</th>\n",
       "      <th>FTAG</th>\n",
       "      <th>FTR</th>\n",
       "      <th>HTHG</th>\n",
       "      <th>HTAG</th>\n",
       "      <th>HTR</th>\n",
       "      <th>Season</th>\n",
       "    </tr>\n",
       "  </thead>\n",
       "  <tbody>\n",
       "    <tr>\n",
       "      <th>0</th>\n",
       "      <td>E0</td>\n",
       "      <td>14/08/93</td>\n",
       "      <td>Arsenal</td>\n",
       "      <td>Coventry</td>\n",
       "      <td>0</td>\n",
       "      <td>3</td>\n",
       "      <td>A</td>\n",
       "      <td>NaN</td>\n",
       "      <td>NaN</td>\n",
       "      <td>NaN</td>\n",
       "      <td>1993-94</td>\n",
       "    </tr>\n",
       "    <tr>\n",
       "      <th>1</th>\n",
       "      <td>E0</td>\n",
       "      <td>14/08/93</td>\n",
       "      <td>Aston Villa</td>\n",
       "      <td>QPR</td>\n",
       "      <td>4</td>\n",
       "      <td>1</td>\n",
       "      <td>H</td>\n",
       "      <td>NaN</td>\n",
       "      <td>NaN</td>\n",
       "      <td>NaN</td>\n",
       "      <td>1993-94</td>\n",
       "    </tr>\n",
       "    <tr>\n",
       "      <th>2</th>\n",
       "      <td>E0</td>\n",
       "      <td>14/08/93</td>\n",
       "      <td>Chelsea</td>\n",
       "      <td>Blackburn</td>\n",
       "      <td>1</td>\n",
       "      <td>2</td>\n",
       "      <td>A</td>\n",
       "      <td>NaN</td>\n",
       "      <td>NaN</td>\n",
       "      <td>NaN</td>\n",
       "      <td>1993-94</td>\n",
       "    </tr>\n",
       "    <tr>\n",
       "      <th>3</th>\n",
       "      <td>E0</td>\n",
       "      <td>14/08/93</td>\n",
       "      <td>Liverpool</td>\n",
       "      <td>Sheffield Weds</td>\n",
       "      <td>2</td>\n",
       "      <td>0</td>\n",
       "      <td>H</td>\n",
       "      <td>NaN</td>\n",
       "      <td>NaN</td>\n",
       "      <td>NaN</td>\n",
       "      <td>1993-94</td>\n",
       "    </tr>\n",
       "    <tr>\n",
       "      <th>4</th>\n",
       "      <td>E0</td>\n",
       "      <td>14/08/93</td>\n",
       "      <td>Man City</td>\n",
       "      <td>Leeds</td>\n",
       "      <td>1</td>\n",
       "      <td>1</td>\n",
       "      <td>D</td>\n",
       "      <td>NaN</td>\n",
       "      <td>NaN</td>\n",
       "      <td>NaN</td>\n",
       "      <td>1993-94</td>\n",
       "    </tr>\n",
       "  </tbody>\n",
       "</table>\n",
       "</div>"
      ],
      "text/plain": [
       "  div      Date     HomeTeam        AwayTeam  FTHG  FTAG FTR  HTHG  HTAG  HTR  \\\n",
       "0  E0  14/08/93      Arsenal        Coventry     0     3   A   NaN   NaN  NaN   \n",
       "1  E0  14/08/93  Aston Villa             QPR     4     1   H   NaN   NaN  NaN   \n",
       "2  E0  14/08/93      Chelsea       Blackburn     1     2   A   NaN   NaN  NaN   \n",
       "3  E0  14/08/93    Liverpool  Sheffield Weds     2     0   H   NaN   NaN  NaN   \n",
       "4  E0  14/08/93     Man City           Leeds     1     1   D   NaN   NaN  NaN   \n",
       "\n",
       "    Season  \n",
       "0  1993-94  \n",
       "1  1993-94  \n",
       "2  1993-94  \n",
       "3  1993-94  \n",
       "4  1993-94  "
      ]
     },
     "execution_count": 4,
     "metadata": {},
     "output_type": "execute_result"
    }
   ],
   "source": [
    "df.head()"
   ]
  },
  {
   "cell_type": "code",
   "execution_count": 200,
   "metadata": {},
   "outputs": [
    {
     "data": {
      "text/html": [
       "<div>\n",
       "<style scoped>\n",
       "    .dataframe tbody tr th:only-of-type {\n",
       "        vertical-align: middle;\n",
       "    }\n",
       "\n",
       "    .dataframe tbody tr th {\n",
       "        vertical-align: top;\n",
       "    }\n",
       "\n",
       "    .dataframe thead th {\n",
       "        text-align: right;\n",
       "    }\n",
       "</style>\n",
       "<table border=\"1\" class=\"dataframe\">\n",
       "  <thead>\n",
       "    <tr style=\"text-align: right;\">\n",
       "      <th></th>\n",
       "      <th>Div</th>\n",
       "      <th>Date</th>\n",
       "      <th>HomeTeam</th>\n",
       "      <th>AwayTeam</th>\n",
       "      <th>HomeGoals</th>\n",
       "      <th>AwayGoals</th>\n",
       "      <th>FTR</th>\n",
       "      <th>HTHG</th>\n",
       "      <th>HTAG</th>\n",
       "      <th>HTR</th>\n",
       "      <th>...</th>\n",
       "      <th>BbAv&lt;2.5</th>\n",
       "      <th>BbAH</th>\n",
       "      <th>BbAHh</th>\n",
       "      <th>BbMxAHH</th>\n",
       "      <th>BbAvAHH</th>\n",
       "      <th>BbMxAHA</th>\n",
       "      <th>BbAvAHA</th>\n",
       "      <th>PSCH</th>\n",
       "      <th>PSCD</th>\n",
       "      <th>PSCA</th>\n",
       "    </tr>\n",
       "  </thead>\n",
       "  <tbody>\n",
       "    <tr>\n",
       "      <th>0</th>\n",
       "      <td>E0</td>\n",
       "      <td>13/08/16</td>\n",
       "      <td>Burnley</td>\n",
       "      <td>Swansea</td>\n",
       "      <td>0</td>\n",
       "      <td>1</td>\n",
       "      <td>A</td>\n",
       "      <td>0</td>\n",
       "      <td>0</td>\n",
       "      <td>D</td>\n",
       "      <td>...</td>\n",
       "      <td>1.61</td>\n",
       "      <td>32</td>\n",
       "      <td>-0.25</td>\n",
       "      <td>2.13</td>\n",
       "      <td>2.06</td>\n",
       "      <td>1.86</td>\n",
       "      <td>1.81</td>\n",
       "      <td>2.79</td>\n",
       "      <td>3.16</td>\n",
       "      <td>2.89</td>\n",
       "    </tr>\n",
       "    <tr>\n",
       "      <th>1</th>\n",
       "      <td>E0</td>\n",
       "      <td>13/08/16</td>\n",
       "      <td>Crystal Palace</td>\n",
       "      <td>West Brom</td>\n",
       "      <td>0</td>\n",
       "      <td>1</td>\n",
       "      <td>A</td>\n",
       "      <td>0</td>\n",
       "      <td>0</td>\n",
       "      <td>D</td>\n",
       "      <td>...</td>\n",
       "      <td>1.52</td>\n",
       "      <td>33</td>\n",
       "      <td>-0.50</td>\n",
       "      <td>2.07</td>\n",
       "      <td>2.00</td>\n",
       "      <td>1.90</td>\n",
       "      <td>1.85</td>\n",
       "      <td>2.25</td>\n",
       "      <td>3.15</td>\n",
       "      <td>3.86</td>\n",
       "    </tr>\n",
       "    <tr>\n",
       "      <th>2</th>\n",
       "      <td>E0</td>\n",
       "      <td>13/08/16</td>\n",
       "      <td>Everton</td>\n",
       "      <td>Tottenham</td>\n",
       "      <td>1</td>\n",
       "      <td>1</td>\n",
       "      <td>D</td>\n",
       "      <td>1</td>\n",
       "      <td>0</td>\n",
       "      <td>H</td>\n",
       "      <td>...</td>\n",
       "      <td>1.77</td>\n",
       "      <td>32</td>\n",
       "      <td>0.25</td>\n",
       "      <td>1.91</td>\n",
       "      <td>1.85</td>\n",
       "      <td>2.09</td>\n",
       "      <td>2.00</td>\n",
       "      <td>3.64</td>\n",
       "      <td>3.54</td>\n",
       "      <td>2.16</td>\n",
       "    </tr>\n",
       "    <tr>\n",
       "      <th>3</th>\n",
       "      <td>E0</td>\n",
       "      <td>13/08/16</td>\n",
       "      <td>Hull</td>\n",
       "      <td>Leicester</td>\n",
       "      <td>2</td>\n",
       "      <td>1</td>\n",
       "      <td>H</td>\n",
       "      <td>1</td>\n",
       "      <td>0</td>\n",
       "      <td>H</td>\n",
       "      <td>...</td>\n",
       "      <td>1.67</td>\n",
       "      <td>31</td>\n",
       "      <td>0.25</td>\n",
       "      <td>2.35</td>\n",
       "      <td>2.26</td>\n",
       "      <td>2.03</td>\n",
       "      <td>1.67</td>\n",
       "      <td>4.68</td>\n",
       "      <td>3.50</td>\n",
       "      <td>1.92</td>\n",
       "    </tr>\n",
       "    <tr>\n",
       "      <th>4</th>\n",
       "      <td>E0</td>\n",
       "      <td>13/08/16</td>\n",
       "      <td>Man City</td>\n",
       "      <td>Sunderland</td>\n",
       "      <td>2</td>\n",
       "      <td>1</td>\n",
       "      <td>H</td>\n",
       "      <td>1</td>\n",
       "      <td>0</td>\n",
       "      <td>H</td>\n",
       "      <td>...</td>\n",
       "      <td>2.48</td>\n",
       "      <td>34</td>\n",
       "      <td>-1.50</td>\n",
       "      <td>1.81</td>\n",
       "      <td>1.73</td>\n",
       "      <td>2.20</td>\n",
       "      <td>2.14</td>\n",
       "      <td>1.25</td>\n",
       "      <td>6.50</td>\n",
       "      <td>14.50</td>\n",
       "    </tr>\n",
       "  </tbody>\n",
       "</table>\n",
       "<p>5 rows × 65 columns</p>\n",
       "</div>"
      ],
      "text/plain": [
       "  Div      Date        HomeTeam    AwayTeam  HomeGoals  AwayGoals FTR  HTHG  \\\n",
       "0  E0  13/08/16         Burnley     Swansea          0          1   A     0   \n",
       "1  E0  13/08/16  Crystal Palace   West Brom          0          1   A     0   \n",
       "2  E0  13/08/16         Everton   Tottenham          1          1   D     1   \n",
       "3  E0  13/08/16            Hull   Leicester          2          1   H     1   \n",
       "4  E0  13/08/16        Man City  Sunderland          2          1   H     1   \n",
       "\n",
       "   HTAG HTR  ...   BbAv<2.5  BbAH  BbAHh  BbMxAHH  BbAvAHH  BbMxAHA  BbAvAHA  \\\n",
       "0     0   D  ...       1.61    32  -0.25     2.13     2.06     1.86     1.81   \n",
       "1     0   D  ...       1.52    33  -0.50     2.07     2.00     1.90     1.85   \n",
       "2     0   H  ...       1.77    32   0.25     1.91     1.85     2.09     2.00   \n",
       "3     0   H  ...       1.67    31   0.25     2.35     2.26     2.03     1.67   \n",
       "4     0   H  ...       2.48    34  -1.50     1.81     1.73     2.20     2.14   \n",
       "\n",
       "   PSCH  PSCD   PSCA  \n",
       "0  2.79  3.16   2.89  \n",
       "1  2.25  3.15   3.86  \n",
       "2  3.64  3.54   2.16  \n",
       "3  4.68  3.50   1.92  \n",
       "4  1.25  6.50  14.50  \n",
       "\n",
       "[5 rows x 65 columns]"
      ]
     },
     "execution_count": 200,
     "metadata": {},
     "output_type": "execute_result"
    }
   ],
   "source": [
    "epl_1617 = pd.read_csv(\"http://www.football-data.co.uk/mmz4281/1617/E0.csv\")\n",
    "epl_1617 = epl_1617.rename(columns={'FTHG': 'HomeGoals', 'FTAG': 'AwayGoals'})\n",
    "epl_1718 = pd.read_csv(\"http://www.football-data.co.uk/mmz4281/1718/E0.csv\")\n",
    "epl_1718 = epl_1718.rename(columns={'FTHG': 'HomeGoals', 'FTAG': 'AwayGoals'})\n",
    "\n",
    "epl = pd.concat([epl_1617, epl_1718])\n",
    "epl.head()"
   ]
  },
  {
   "cell_type": "code",
   "execution_count": 6,
   "metadata": {},
   "outputs": [
    {
     "data": {
      "text/html": [
       "<div>\n",
       "<style scoped>\n",
       "    .dataframe tbody tr th:only-of-type {\n",
       "        vertical-align: middle;\n",
       "    }\n",
       "\n",
       "    .dataframe tbody tr th {\n",
       "        vertical-align: top;\n",
       "    }\n",
       "\n",
       "    .dataframe thead th {\n",
       "        text-align: right;\n",
       "    }\n",
       "</style>\n",
       "<table border=\"1\" class=\"dataframe\">\n",
       "  <thead>\n",
       "    <tr style=\"text-align: right;\">\n",
       "      <th></th>\n",
       "      <th>DIVISION</th>\n",
       "      <th>DATE</th>\n",
       "      <th>TIME</th>\n",
       "      <th>FIXTURE</th>\n",
       "      <th>HOME TEAM</th>\n",
       "      <th>AWAY TEAM</th>\n",
       "    </tr>\n",
       "  </thead>\n",
       "  <tbody>\n",
       "    <tr>\n",
       "      <th>0</th>\n",
       "      <td>EPL</td>\n",
       "      <td>8/10/2018</td>\n",
       "      <td>20:00</td>\n",
       "      <td>Manchester United V Leicester City</td>\n",
       "      <td>Manchester United</td>\n",
       "      <td>Leicester City</td>\n",
       "    </tr>\n",
       "    <tr>\n",
       "      <th>1</th>\n",
       "      <td>EPL</td>\n",
       "      <td>8/11/2018</td>\n",
       "      <td>12:30</td>\n",
       "      <td>Newcastle United V Tottenham Hotspur</td>\n",
       "      <td>Newcastle United</td>\n",
       "      <td>Tottenham Hotspur</td>\n",
       "    </tr>\n",
       "    <tr>\n",
       "      <th>2</th>\n",
       "      <td>EPL</td>\n",
       "      <td>8/11/2018</td>\n",
       "      <td>15:00</td>\n",
       "      <td>Bournemouth V Cardiff City</td>\n",
       "      <td>Bournemouth</td>\n",
       "      <td>Cardiff City</td>\n",
       "    </tr>\n",
       "    <tr>\n",
       "      <th>3</th>\n",
       "      <td>EPL</td>\n",
       "      <td>8/11/2018</td>\n",
       "      <td>15:00</td>\n",
       "      <td>Fulham V Crystal Palace</td>\n",
       "      <td>Fulham</td>\n",
       "      <td>Crystal Palace</td>\n",
       "    </tr>\n",
       "    <tr>\n",
       "      <th>4</th>\n",
       "      <td>EPL</td>\n",
       "      <td>8/11/2018</td>\n",
       "      <td>15:00</td>\n",
       "      <td>Huddersfield Town V Chelsea</td>\n",
       "      <td>Huddersfield Town</td>\n",
       "      <td>Chelsea</td>\n",
       "    </tr>\n",
       "  </tbody>\n",
       "</table>\n",
       "</div>"
      ],
      "text/plain": [
       "  DIVISION       DATE   TIME                               FIXTURE  \\\n",
       "0      EPL  8/10/2018  20:00    Manchester United V Leicester City   \n",
       "1      EPL  8/11/2018  12:30  Newcastle United V Tottenham Hotspur   \n",
       "2      EPL  8/11/2018  15:00            Bournemouth V Cardiff City   \n",
       "3      EPL  8/11/2018  15:00               Fulham V Crystal Palace   \n",
       "4      EPL  8/11/2018  15:00           Huddersfield Town V Chelsea   \n",
       "\n",
       "           HOME TEAM          AWAY TEAM  \n",
       "0  Manchester United     Leicester City  \n",
       "1   Newcastle United  Tottenham Hotspur  \n",
       "2        Bournemouth       Cardiff City  \n",
       "3             Fulham     Crystal Palace  \n",
       "4  Huddersfield Town            Chelsea  "
      ]
     },
     "execution_count": 6,
     "metadata": {},
     "output_type": "execute_result"
    }
   ],
   "source": [
    "epl_1819 = pd.read_csv(\"data/EPL/fixtures.csv\")\n",
    "epl_1819.head()"
   ]
  },
  {
   "cell_type": "code",
   "execution_count": 7,
   "metadata": {},
   "outputs": [
    {
     "data": {
      "text/plain": [
       "HomeGoals    1.564474\n",
       "AwayGoals    1.175000\n",
       "dtype: float64"
      ]
     },
     "execution_count": 7,
     "metadata": {},
     "output_type": "execute_result"
    }
   ],
   "source": [
    "# Goals scored by home and away\n",
    "epl.agg({'HomeGoals':np.mean, 'AwayGoals':np.mean})"
   ]
  },
  {
   "cell_type": "code",
   "execution_count": 8,
   "metadata": {},
   "outputs": [
    {
     "name": "stderr",
     "output_type": "stream",
     "text": [
      "/usr/local/lib/python3.6/site-packages/scipy/stats/stats.py:1713: FutureWarning: Using a non-tuple sequence for multidimensional indexing is deprecated; use `arr[tuple(seq)]` instead of `arr[seq]`. In the future this will be interpreted as an array index, `arr[np.array(seq)]`, which will result either in an error or a different result.\n",
      "  return np.add.reduce(sorted[indexer] * weights, axis=axis) / sumval\n"
     ]
    },
    {
     "data": {
      "image/png": "[encoded data removed]",
      "text/plain": [
       "<Figure size 432x288 with 1 Axes>"
      ]
     },
     "metadata": {},
     "output_type": "display_data"
    }
   ],
   "source": [
    "for col in ['HomeGoals','AwayGoals']:\n",
    "    sns.distplot(epl[col], kde=False, norm_hist=True)"
   ]
  },
  {
   "cell_type": "code",
   "execution_count": 15,
   "metadata": {},
   "outputs": [
    {
     "name": "stdout",
     "output_type": "stream",
     "text": [
      "*** Draw:\t\t0.2472623146527037\n",
      "*** Home win by 1:\t0.2255825966367541\n",
      "*** Away win by 1:\t0.16983730916473913\n"
     ]
    }
   ],
   "source": [
    "# Probabilities of draw, home win/away win by single goal\n",
    "draw = sp.stats.skellam.pmf(0.0,  epl_1617.mean()[0],  epl_1617.mean()[1])\n",
    "home_win = sp.stats.skellam.pmf(1.0,  epl_1617.mean()[0],  epl_1617.mean()[1])\n",
    "away_win = sp.stats.skellam.pmf(-1.0,  epl_1617.mean()[0],  epl_1617.mean()[1])\n",
    "print(\"*** Draw:\\t\\t{draw}\\n*** Home win by 1:\\t{home}\\n*** Away win by 1:\\t{away}\".format(draw=draw, home=home_win, away=away_win))"
   ]
  },
  {
   "cell_type": "code",
   "execution_count": 24,
   "metadata": {},
   "outputs": [],
   "source": [
    "goal_diff = np.arange(-8,8,1)\n",
    "win_pdf = [sp.stats.skellam.pmf(i,  epl_1617.mean()[0],  epl_1617.mean()[1]) for i in goal_diff]"
   ]
  },
  {
   "cell_type": "code",
   "execution_count": 25,
   "metadata": {},
   "outputs": [
    {
     "name": "stderr",
     "output_type": "stream",
     "text": [
      "/usr/local/lib/python3.6/site-packages/matplotlib/axes/_axes.py:6571: UserWarning: The 'normed' kwarg is deprecated, and has been replaced by the 'density' kwarg.\n",
      "  warnings.warn(\"The 'normed' kwarg is deprecated, and has been \"\n"
     ]
    },
    {
     "data": {
      "image/png": "[encoded data removed]",
      "text/plain": [
       "<Figure size 1152x576 with 1 Axes>"
      ]
     },
     "metadata": {},
     "output_type": "display_data"
    }
   ],
   "source": [
    "fig = plt.figure(figsize=(16,8))\n",
    "plt.hist(epl[['HomeGoals']].values - epl[['AwayGoals']].values, goal_diff, \n",
    "         alpha=0.7, label='Actual',normed=True)\n",
    "plt.plot([i+0.5 for i in goal_diff], win_pdf, linestyle='-', marker='o',label=\"Skellam\", color = '#CD5C5C')\n",
    "plt.legend(loc='upper right', fontsize=13)\n",
    "plt.xticks([i+0.5 for i in goal_diff],[i for i in goal_diff])\n",
    "plt.xlabel(\"Home Goals - Away Goals\",size=13)\n",
    "plt.ylabel(\"Proportion of Matches\",size=13)\n",
    "plt.title(\"Difference in Goals Scored (Home Team vs Away Team)\",size=14,fontweight='bold')\n",
    "plt.ylim([-0.004, 0.26])\n",
    "plt.tight_layout()\n",
    "plt.show()"
   ]
  },
  {
   "cell_type": "code",
   "execution_count": 91,
   "metadata": {},
   "outputs": [
    {
     "name": "stderr",
     "output_type": "stream",
     "text": [
      "/usr/local/lib/python3.6/site-packages/pandas/core/indexing.py:362: SettingWithCopyWarning: \n",
      "A value is trying to be set on a copy of a slice from a DataFrame.\n",
      "Try using .loc[row_indexer,col_indexer] = value instead\n",
      "\n",
      "See the caveats in the documentation: http://pandas.pydata.org/pandas-docs/stable/indexing.html#indexing-view-versus-copy\n",
      "  self.obj[key] = _infer_fill_value(value)\n",
      "/usr/local/lib/python3.6/site-packages/pandas/core/indexing.py:543: SettingWithCopyWarning: \n",
      "A value is trying to be set on a copy of a slice from a DataFrame.\n",
      "Try using .loc[row_indexer,col_indexer] = value instead\n",
      "\n",
      "See the caveats in the documentation: http://pandas.pydata.org/pandas-docs/stable/indexing.html#indexing-view-versus-copy\n",
      "  self.obj[item] = s\n",
      "/usr/local/lib/python3.6/site-packages/ipykernel_launcher.py:8: SettingWithCopyWarning: \n",
      "A value is trying to be set on a copy of a slice from a DataFrame.\n",
      "Try using .loc[row_indexer,col_indexer] = value instead\n",
      "\n",
      "See the caveats in the documentation: http://pandas.pydata.org/pandas-docs/stable/indexing.html#indexing-view-versus-copy\n",
      "  \n",
      "/usr/local/lib/python3.6/site-packages/scipy/stats/stats.py:1713: FutureWarning: Using a non-tuple sequence for multidimensional indexing is deprecated; use `arr[tuple(seq)]` instead of `arr[seq]`. In the future this will be interpreted as an array index, `arr[np.array(seq)]`, which will result either in an error or a different result.\n",
      "  return np.add.reduce(sorted[indexer] * weights, axis=axis) / sumval\n"
     ]
    },
    {
     "data": {
      "text/plain": [
       "<matplotlib.legend.Legend at 0x12438bf28>"
      ]
     },
     "execution_count": 91,
     "metadata": {},
     "output_type": "execute_result"
    },
    {
     "data": {
      "image/png": "[encoded data removed]",
      "text/plain": [
       "<Figure size 756x216 with 2 Axes>"
      ]
     },
     "metadata": {},
     "output_type": "display_data"
    }
   ],
   "source": [
    "df2 = epl[(epl['HomeTeam']=='Chelsea') | (epl['AwayTeam']=='Chelsea') | (epl['HomeTeam']=='Sunderland') | (epl['AwayTeam']=='Sunderland')]\n",
    "df2.loc[(df2['HomeTeam']=='Chelsea') | (df2['AwayTeam']=='Chelsea'),'Team']='Chelsea'\n",
    "df2.loc[(df2['HomeTeam']=='Chelsea'),'Ground']='Home'\n",
    "df2.loc[(df2['AwayTeam']=='Chelsea'),'Ground']='Away'\n",
    "df2.loc[(df2['HomeTeam']=='Sunderland') | (df2['AwayTeam']=='Sunderland'),'Team']='Sunderland'\n",
    "df2.loc[(df2['HomeTeam']=='Sunderland'),'Ground']='Home'\n",
    "df2.loc[(df2['AwayTeam']=='Sunderland'),'Ground']='Away'\n",
    "df2['GD']=(df2[['HomeGoals']].values - df2[['AwayGoals']].values)\n",
    "\n",
    "\n",
    "# with sns.axes_style('white'):\n",
    "#     g = sns.distplot(df2['GD'], row=\"Ground\", hue='Team', palette=sns.color_palette(\"RdBu\", n_colors=2))\n",
    "\n",
    "grid = sns.FacetGrid(df2, col=\"Ground\", col_order=['Home','Away'], hue='Team', legend_out=True, aspect=1.75,\n",
    "                     margin_titles=True, despine=True, palette=sns.color_palette(\"RdBu\", n_colors=2))\n",
    "grid.map(sns.distplot, 'GD')\n",
    "plt.legend()\n"
   ]
  },
  {
   "cell_type": "code",
   "execution_count": 102,
   "metadata": {},
   "outputs": [
    {
     "data": {
      "text/html": [
       "<div>\n",
       "<style scoped>\n",
       "    .dataframe tbody tr th:only-of-type {\n",
       "        vertical-align: middle;\n",
       "    }\n",
       "\n",
       "    .dataframe tbody tr th {\n",
       "        vertical-align: top;\n",
       "    }\n",
       "\n",
       "    .dataframe thead th {\n",
       "        text-align: right;\n",
       "    }\n",
       "</style>\n",
       "<table border=\"1\" class=\"dataframe\">\n",
       "  <thead>\n",
       "    <tr style=\"text-align: right;\">\n",
       "      <th></th>\n",
       "      <th>Team</th>\n",
       "      <th>Ground</th>\n",
       "      <th>Goals</th>\n",
       "    </tr>\n",
       "  </thead>\n",
       "  <tbody>\n",
       "    <tr>\n",
       "      <th>0</th>\n",
       "      <td>Sunderland</td>\n",
       "      <td>HomeGoals</td>\n",
       "      <td>2</td>\n",
       "    </tr>\n",
       "    <tr>\n",
       "      <th>1</th>\n",
       "      <td>Chelsea</td>\n",
       "      <td>HomeGoals</td>\n",
       "      <td>2</td>\n",
       "    </tr>\n",
       "    <tr>\n",
       "      <th>2</th>\n",
       "      <td>Chelsea</td>\n",
       "      <td>HomeGoals</td>\n",
       "      <td>1</td>\n",
       "    </tr>\n",
       "    <tr>\n",
       "      <th>3</th>\n",
       "      <td>Sunderland</td>\n",
       "      <td>HomeGoals</td>\n",
       "      <td>1</td>\n",
       "    </tr>\n",
       "    <tr>\n",
       "      <th>4</th>\n",
       "      <td>Chelsea</td>\n",
       "      <td>HomeGoals</td>\n",
       "      <td>3</td>\n",
       "    </tr>\n",
       "  </tbody>\n",
       "</table>\n",
       "</div>"
      ],
      "text/plain": [
       "         Team     Ground  Goals\n",
       "0  Sunderland  HomeGoals      2\n",
       "1     Chelsea  HomeGoals      2\n",
       "2     Chelsea  HomeGoals      1\n",
       "3  Sunderland  HomeGoals      1\n",
       "4     Chelsea  HomeGoals      3"
      ]
     },
     "execution_count": 102,
     "metadata": {},
     "output_type": "execute_result"
    }
   ],
   "source": [
    "df2_melt = df2.melt(id_vars=['Team'], value_vars=['HomeGoals','AwayGoals'], var_name='Ground', value_name='Goals')\n",
    "df2_melt.head()\n"
   ]
  },
  {
   "cell_type": "code",
   "execution_count": 108,
   "metadata": {},
   "outputs": [
    {
     "name": "stderr",
     "output_type": "stream",
     "text": [
      "/usr/local/lib/python3.6/site-packages/scipy/stats/stats.py:1713: FutureWarning: Using a non-tuple sequence for multidimensional indexing is deprecated; use `arr[tuple(seq)]` instead of `arr[seq]`. In the future this will be interpreted as an array index, `arr[np.array(seq)]`, which will result either in an error or a different result.\n",
      "  return np.add.reduce(sorted[indexer] * weights, axis=axis) / sumval\n"
     ]
    },
    {
     "data": {
      "text/plain": [
       "<matplotlib.legend.Legend at 0x12504dac8>"
      ]
     },
     "execution_count": 108,
     "metadata": {},
     "output_type": "execute_result"
    },
    {
     "data": {
      "image/png": "[encoded data removed]",
      "text/plain": [
       "<Figure size 756x216 with 2 Axes>"
      ]
     },
     "metadata": {},
     "output_type": "display_data"
    }
   ],
   "source": [
    "grid2 = sns.FacetGrid(df2_melt, col=\"Ground\", col_order=['HomeGoals','AwayGoals'], hue='Team', legend_out=True, \n",
    "                      aspect=1.75, margin_titles=True, despine=True, palette=sns.color_palette(\"RdBu\", n_colors=2), xlim=(0,7))\n",
    "grid2.map(sns.distplot, 'Goals')\n",
    "plt.legend()"
   ]
  },
  {
   "cell_type": "code",
   "execution_count": 121,
   "metadata": {},
   "outputs": [],
   "source": [
    "import statsmodels.api as sm\n",
    "import statsmodels.formula.api as smf\n",
    "\n",
    "goal_model_data = pd.concat([epl[['HomeTeam','AwayTeam','HomeGoals']].assign(home=1).rename(\n",
    "            columns={'HomeTeam':'team', 'AwayTeam':'opponent','HomeGoals':'goals'}),\n",
    "           epl[['AwayTeam','HomeTeam','AwayGoals']].assign(home=0).rename(\n",
    "            columns={'AwayTeam':'team', 'HomeTeam':'opponent','AwayGoals':'goals'})])"
   ]
  },
  {
   "cell_type": "code",
   "execution_count": 125,
   "metadata": {},
   "outputs": [
    {
     "data": {
      "text/html": [
       "<table class=\"simpletable\">\n",
       "<caption>Generalized Linear Model Regression Results</caption>\n",
       "<tr>\n",
       "  <th>Dep. Variable:</th>        <td>goals</td>      <th>  No. Observations:  </th>  <td>  1520</td>  \n",
       "</tr>\n",
       "<tr>\n",
       "  <th>Model:</th>                 <td>GLM</td>       <th>  Df Residuals:      </th>  <td>  1474</td>  \n",
       "</tr>\n",
       "<tr>\n",
       "  <th>Model Family:</th>        <td>Poisson</td>     <th>  Df Model:          </th>  <td>    45</td>  \n",
       "</tr>\n",
       "<tr>\n",
       "  <th>Link Function:</th>         <td>log</td>       <th>  Scale:             </th> <td>  1.0000</td> \n",
       "</tr>\n",
       "<tr>\n",
       "  <th>Method:</th>               <td>IRLS</td>       <th>  Log-Likelihood:    </th> <td> -2141.6</td> \n",
       "</tr>\n",
       "<tr>\n",
       "  <th>Date:</th>           <td>Sat, 25 Aug 2018</td> <th>  Deviance:          </th> <td>  1626.1</td> \n",
       "</tr>\n",
       "<tr>\n",
       "  <th>Time:</th>               <td>14:02:04</td>     <th>  Pearson chi2:      </th> <td>1.41e+03</td> \n",
       "</tr>\n",
       "<tr>\n",
       "  <th>No. Iterations:</th>         <td>5</td>        <th>  Covariance Type:   </th> <td>nonrobust</td>\n",
       "</tr>\n",
       "</table>\n",
       "<table class=\"simpletable\">\n",
       "<tr>\n",
       "               <td></td>                 <th>coef</th>     <th>std err</th>      <th>z</th>      <th>P>|z|</th>  <th>[0.025</th>    <th>0.975]</th>  \n",
       "</tr>\n",
       "<tr>\n",
       "  <th>Intercept</th>                  <td>    0.4651</td> <td>    0.135</td> <td>    3.435</td> <td> 0.001</td> <td>    0.200</td> <td>    0.730</td>\n",
       "</tr>\n",
       "<tr>\n",
       "  <th>team[T.Bournemouth]</th>        <td>   -0.3966</td> <td>    0.129</td> <td>   -3.070</td> <td> 0.002</td> <td>   -0.650</td> <td>   -0.143</td>\n",
       "</tr>\n",
       "<tr>\n",
       "  <th>team[T.Brighton]</th>           <td>   -0.7712</td> <td>    0.190</td> <td>   -4.056</td> <td> 0.000</td> <td>   -1.144</td> <td>   -0.399</td>\n",
       "</tr>\n",
       "<tr>\n",
       "  <th>team[T.Burnley]</th>            <td>   -0.7022</td> <td>    0.141</td> <td>   -4.964</td> <td> 0.000</td> <td>   -0.979</td> <td>   -0.425</td>\n",
       "</tr>\n",
       "<tr>\n",
       "  <th>team[T.Chelsea]</th>            <td>   -0.0393</td> <td>    0.116</td> <td>   -0.339</td> <td> 0.735</td> <td>   -0.267</td> <td>    0.188</td>\n",
       "</tr>\n",
       "<tr>\n",
       "  <th>team[T.Crystal Palace]</th>     <td>   -0.4531</td> <td>    0.131</td> <td>   -3.455</td> <td> 0.001</td> <td>   -0.710</td> <td>   -0.196</td>\n",
       "</tr>\n",
       "<tr>\n",
       "  <th>team[T.Everton]</th>            <td>   -0.3514</td> <td>    0.127</td> <td>   -2.769</td> <td> 0.006</td> <td>   -0.600</td> <td>   -0.103</td>\n",
       "</tr>\n",
       "<tr>\n",
       "  <th>team[T.Huddersfield]</th>       <td>   -0.9616</td> <td>    0.206</td> <td>   -4.667</td> <td> 0.000</td> <td>   -1.365</td> <td>   -0.558</td>\n",
       "</tr>\n",
       "<tr>\n",
       "  <th>team[T.Hull]</th>               <td>   -0.7043</td> <td>    0.184</td> <td>   -3.833</td> <td> 0.000</td> <td>   -1.064</td> <td>   -0.344</td>\n",
       "</tr>\n",
       "<tr>\n",
       "  <th>team[T.Leicester]</th>          <td>   -0.3598</td> <td>    0.128</td> <td>   -2.818</td> <td> 0.005</td> <td>   -0.610</td> <td>   -0.110</td>\n",
       "</tr>\n",
       "<tr>\n",
       "  <th>team[T.Liverpool]</th>          <td>    0.0628</td> <td>    0.113</td> <td>    0.554</td> <td> 0.580</td> <td>   -0.159</td> <td>    0.285</td>\n",
       "</tr>\n",
       "<tr>\n",
       "  <th>team[T.Man City]</th>           <td>    0.1941</td> <td>    0.110</td> <td>    1.769</td> <td> 0.077</td> <td>   -0.021</td> <td>    0.409</td>\n",
       "</tr>\n",
       "<tr>\n",
       "  <th>team[T.Man United]</th>         <td>   -0.2332</td> <td>    0.122</td> <td>   -1.913</td> <td> 0.056</td> <td>   -0.472</td> <td>    0.006</td>\n",
       "</tr>\n",
       "<tr>\n",
       "  <th>team[T.Middlesbrough]</th>      <td>   -1.0468</td> <td>    0.209</td> <td>   -5.004</td> <td> 0.000</td> <td>   -1.457</td> <td>   -0.637</td>\n",
       "</tr>\n",
       "<tr>\n",
       "  <th>team[T.Newcastle]</th>          <td>   -0.6408</td> <td>    0.180</td> <td>   -3.561</td> <td> 0.000</td> <td>   -0.994</td> <td>   -0.288</td>\n",
       "</tr>\n",
       "<tr>\n",
       "  <th>team[T.Southampton]</th>        <td>   -0.6579</td> <td>    0.140</td> <td>   -4.712</td> <td> 0.000</td> <td>   -0.932</td> <td>   -0.384</td>\n",
       "</tr>\n",
       "<tr>\n",
       "  <th>team[T.Stoke]</th>              <td>   -0.6738</td> <td>    0.141</td> <td>   -4.784</td> <td> 0.000</td> <td>   -0.950</td> <td>   -0.398</td>\n",
       "</tr>\n",
       "<tr>\n",
       "  <th>team[T.Sunderland]</th>         <td>   -0.9595</td> <td>    0.203</td> <td>   -4.726</td> <td> 0.000</td> <td>   -1.357</td> <td>   -0.562</td>\n",
       "</tr>\n",
       "<tr>\n",
       "  <th>team[T.Swansea]</th>            <td>   -0.7132</td> <td>    0.143</td> <td>   -4.996</td> <td> 0.000</td> <td>   -0.993</td> <td>   -0.433</td>\n",
       "</tr>\n",
       "<tr>\n",
       "  <th>team[T.Tottenham]</th>          <td>    0.0411</td> <td>    0.114</td> <td>    0.361</td> <td> 0.718</td> <td>   -0.182</td> <td>    0.264</td>\n",
       "</tr>\n",
       "<tr>\n",
       "  <th>team[T.Watford]</th>            <td>   -0.5694</td> <td>    0.136</td> <td>   -4.177</td> <td> 0.000</td> <td>   -0.837</td> <td>   -0.302</td>\n",
       "</tr>\n",
       "<tr>\n",
       "  <th>team[T.West Brom]</th>          <td>   -0.7091</td> <td>    0.142</td> <td>   -4.991</td> <td> 0.000</td> <td>   -0.988</td> <td>   -0.431</td>\n",
       "</tr>\n",
       "<tr>\n",
       "  <th>team[T.West Ham]</th>           <td>   -0.4460</td> <td>    0.131</td> <td>   -3.400</td> <td> 0.001</td> <td>   -0.703</td> <td>   -0.189</td>\n",
       "</tr>\n",
       "<tr>\n",
       "  <th>opponent[T.Bournemouth]</th>    <td>    0.2729</td> <td>    0.136</td> <td>    2.011</td> <td> 0.044</td> <td>    0.007</td> <td>    0.539</td>\n",
       "</tr>\n",
       "<tr>\n",
       "  <th>opponent[T.Brighton]</th>       <td>    0.0818</td> <td>    0.171</td> <td>    0.479</td> <td> 0.632</td> <td>   -0.253</td> <td>    0.416</td>\n",
       "</tr>\n",
       "<tr>\n",
       "  <th>opponent[T.Burnley]</th>        <td>   -0.0493</td> <td>    0.146</td> <td>   -0.338</td> <td> 0.735</td> <td>   -0.335</td> <td>    0.236</td>\n",
       "</tr>\n",
       "<tr>\n",
       "  <th>opponent[T.Chelsea]</th>        <td>   -0.2942</td> <td>    0.157</td> <td>   -1.872</td> <td> 0.061</td> <td>   -0.602</td> <td>    0.014</td>\n",
       "</tr>\n",
       "<tr>\n",
       "  <th>opponent[T.Crystal Palace]</th> <td>    0.1887</td> <td>    0.138</td> <td>    1.367</td> <td> 0.172</td> <td>   -0.082</td> <td>    0.459</td>\n",
       "</tr>\n",
       "<tr>\n",
       "  <th>opponent[T.Everton]</th>        <td>    0.0482</td> <td>    0.143</td> <td>    0.338</td> <td> 0.736</td> <td>   -0.232</td> <td>    0.328</td>\n",
       "</tr>\n",
       "<tr>\n",
       "  <th>opponent[T.Huddersfield]</th>   <td>    0.1472</td> <td>    0.167</td> <td>    0.882</td> <td> 0.378</td> <td>   -0.180</td> <td>    0.474</td>\n",
       "</tr>\n",
       "<tr>\n",
       "  <th>opponent[T.Hull]</th>           <td>    0.4879</td> <td>    0.152</td> <td>    3.209</td> <td> 0.001</td> <td>    0.190</td> <td>    0.786</td>\n",
       "</tr>\n",
       "<tr>\n",
       "  <th>opponent[T.Leicester]</th>      <td>    0.2350</td> <td>    0.137</td> <td>    1.717</td> <td> 0.086</td> <td>   -0.033</td> <td>    0.503</td>\n",
       "</tr>\n",
       "<tr>\n",
       "  <th>opponent[T.Liverpool]</th>      <td>   -0.1668</td> <td>    0.152</td> <td>   -1.097</td> <td> 0.273</td> <td>   -0.465</td> <td>    0.131</td>\n",
       "</tr>\n",
       "<tr>\n",
       "  <th>opponent[T.Man City]</th>       <td>   -0.3473</td> <td>    0.161</td> <td>   -2.164</td> <td> 0.030</td> <td>   -0.662</td> <td>   -0.033</td>\n",
       "</tr>\n",
       "<tr>\n",
       "  <th>opponent[T.Man United]</th>     <td>   -0.5270</td> <td>    0.168</td> <td>   -3.141</td> <td> 0.002</td> <td>   -0.856</td> <td>   -0.198</td>\n",
       "</tr>\n",
       "<tr>\n",
       "  <th>opponent[T.Middlesbrough]</th>  <td>    0.0654</td> <td>    0.172</td> <td>    0.381</td> <td> 0.703</td> <td>   -0.271</td> <td>    0.402</td>\n",
       "</tr>\n",
       "<tr>\n",
       "  <th>opponent[T.Newcastle]</th>      <td>   -0.0523</td> <td>    0.179</td> <td>   -0.293</td> <td> 0.770</td> <td>   -0.402</td> <td>    0.298</td>\n",
       "</tr>\n",
       "<tr>\n",
       "  <th>opponent[T.Southampton]</th>    <td>    0.0535</td> <td>    0.142</td> <td>    0.377</td> <td> 0.706</td> <td>   -0.225</td> <td>    0.332</td>\n",
       "</tr>\n",
       "<tr>\n",
       "  <th>opponent[T.Stoke]</th>          <td>    0.2288</td> <td>    0.137</td> <td>    1.675</td> <td> 0.094</td> <td>   -0.039</td> <td>    0.496</td>\n",
       "</tr>\n",
       "<tr>\n",
       "  <th>opponent[T.Sunderland]</th>     <td>    0.3316</td> <td>    0.158</td> <td>    2.093</td> <td> 0.036</td> <td>    0.021</td> <td>    0.642</td>\n",
       "</tr>\n",
       "<tr>\n",
       "  <th>opponent[T.Swansea]</th>        <td>    0.2433</td> <td>    0.136</td> <td>    1.788</td> <td> 0.074</td> <td>   -0.023</td> <td>    0.510</td>\n",
       "</tr>\n",
       "<tr>\n",
       "  <th>opponent[T.Tottenham]</th>      <td>   -0.4235</td> <td>    0.164</td> <td>   -2.590</td> <td> 0.010</td> <td>   -0.744</td> <td>   -0.103</td>\n",
       "</tr>\n",
       "<tr>\n",
       "  <th>opponent[T.Watford]</th>        <td>    0.2956</td> <td>    0.135</td> <td>    2.193</td> <td> 0.028</td> <td>    0.031</td> <td>    0.560</td>\n",
       "</tr>\n",
       "<tr>\n",
       "  <th>opponent[T.West Brom]</th>      <td>    0.0800</td> <td>    0.141</td> <td>    0.567</td> <td> 0.571</td> <td>   -0.197</td> <td>    0.357</td>\n",
       "</tr>\n",
       "<tr>\n",
       "  <th>opponent[T.West Ham]</th>       <td>    0.3012</td> <td>    0.135</td> <td>    2.235</td> <td> 0.025</td> <td>    0.037</td> <td>    0.565</td>\n",
       "</tr>\n",
       "<tr>\n",
       "  <th>home</th>                       <td>    0.2863</td> <td>    0.044</td> <td>    6.465</td> <td> 0.000</td> <td>    0.199</td> <td>    0.373</td>\n",
       "</tr>\n",
       "</table>"
      ],
      "text/plain": [
       "<class 'statsmodels.iolib.summary.Summary'>\n",
       "\"\"\"\n",
       "                 Generalized Linear Model Regression Results                  \n",
       "==============================================================================\n",
       "Dep. Variable:                  goals   No. Observations:                 1520\n",
       "Model:                            GLM   Df Residuals:                     1474\n",
       "Model Family:                 Poisson   Df Model:                           45\n",
       "Link Function:                    log   Scale:                          1.0000\n",
       "Method:                          IRLS   Log-Likelihood:                -2141.6\n",
       "Date:                Sat, 25 Aug 2018   Deviance:                       1626.1\n",
       "Time:                        14:02:04   Pearson chi2:                 1.41e+03\n",
       "No. Iterations:                     5   Covariance Type:             nonrobust\n",
       "==============================================================================================\n",
       "                                 coef    std err          z      P>|z|      [0.025      0.975]\n",
       "----------------------------------------------------------------------------------------------\n",
       "Intercept                      0.4651      0.135      3.435      0.001       0.200       0.730\n",
       "team[T.Bournemouth]           -0.3966      0.129     -3.070      0.002      -0.650      -0.143\n",
       "team[T.Brighton]              -0.7712      0.190     -4.056      0.000      -1.144      -0.399\n",
       "team[T.Burnley]               -0.7022      0.141     -4.964      0.000      -0.979      -0.425\n",
       "team[T.Chelsea]               -0.0393      0.116     -0.339      0.735      -0.267       0.188\n",
       "team[T.Crystal Palace]        -0.4531      0.131     -3.455      0.001      -0.710      -0.196\n",
       "team[T.Everton]               -0.3514      0.127     -2.769      0.006      -0.600      -0.103\n",
       "team[T.Huddersfield]          -0.9616      0.206     -4.667      0.000      -1.365      -0.558\n",
       "team[T.Hull]                  -0.7043      0.184     -3.833      0.000      -1.064      -0.344\n",
       "team[T.Leicester]             -0.3598      0.128     -2.818      0.005      -0.610      -0.110\n",
       "team[T.Liverpool]              0.0628      0.113      0.554      0.580      -0.159       0.285\n",
       "team[T.Man City]               0.1941      0.110      1.769      0.077      -0.021       0.409\n",
       "team[T.Man United]            -0.2332      0.122     -1.913      0.056      -0.472       0.006\n",
       "team[T.Middlesbrough]         -1.0468      0.209     -5.004      0.000      -1.457      -0.637\n",
       "team[T.Newcastle]             -0.6408      0.180     -3.561      0.000      -0.994      -0.288\n",
       "team[T.Southampton]           -0.6579      0.140     -4.712      0.000      -0.932      -0.384\n",
       "team[T.Stoke]                 -0.6738      0.141     -4.784      0.000      -0.950      -0.398\n",
       "team[T.Sunderland]            -0.9595      0.203     -4.726      0.000      -1.357      -0.562\n",
       "team[T.Swansea]               -0.7132      0.143     -4.996      0.000      -0.993      -0.433\n",
       "team[T.Tottenham]              0.0411      0.114      0.361      0.718      -0.182       0.264\n",
       "team[T.Watford]               -0.5694      0.136     -4.177      0.000      -0.837      -0.302\n",
       "team[T.West Brom]             -0.7091      0.142     -4.991      0.000      -0.988      -0.431\n",
       "team[T.West Ham]              -0.4460      0.131     -3.400      0.001      -0.703      -0.189\n",
       "opponent[T.Bournemouth]        0.2729      0.136      2.011      0.044       0.007       0.539\n",
       "opponent[T.Brighton]           0.0818      0.171      0.479      0.632      -0.253       0.416\n",
       "opponent[T.Burnley]           -0.0493      0.146     -0.338      0.735      -0.335       0.236\n",
       "opponent[T.Chelsea]           -0.2942      0.157     -1.872      0.061      -0.602       0.014\n",
       "opponent[T.Crystal Palace]     0.1887      0.138      1.367      0.172      -0.082       0.459\n",
       "opponent[T.Everton]            0.0482      0.143      0.338      0.736      -0.232       0.328\n",
       "opponent[T.Huddersfield]       0.1472      0.167      0.882      0.378      -0.180       0.474\n",
       "opponent[T.Hull]               0.4879      0.152      3.209      0.001       0.190       0.786\n",
       "opponent[T.Leicester]          0.2350      0.137      1.717      0.086      -0.033       0.503\n",
       "opponent[T.Liverpool]         -0.1668      0.152     -1.097      0.273      -0.465       0.131\n",
       "opponent[T.Man City]          -0.3473      0.161     -2.164      0.030      -0.662      -0.033\n",
       "opponent[T.Man United]        -0.5270      0.168     -3.141      0.002      -0.856      -0.198\n",
       "opponent[T.Middlesbrough]      0.0654      0.172      0.381      0.703      -0.271       0.402\n",
       "opponent[T.Newcastle]         -0.0523      0.179     -0.293      0.770      -0.402       0.298\n",
       "opponent[T.Southampton]        0.0535      0.142      0.377      0.706      -0.225       0.332\n",
       "opponent[T.Stoke]              0.2288      0.137      1.675      0.094      -0.039       0.496\n",
       "opponent[T.Sunderland]         0.3316      0.158      2.093      0.036       0.021       0.642\n",
       "opponent[T.Swansea]            0.2433      0.136      1.788      0.074      -0.023       0.510\n",
       "opponent[T.Tottenham]         -0.4235      0.164     -2.590      0.010      -0.744      -0.103\n",
       "opponent[T.Watford]            0.2956      0.135      2.193      0.028       0.031       0.560\n",
       "opponent[T.West Brom]          0.0800      0.141      0.567      0.571      -0.197       0.357\n",
       "opponent[T.West Ham]           0.3012      0.135      2.235      0.025       0.037       0.565\n",
       "home                           0.2863      0.044      6.465      0.000       0.199       0.373\n",
       "==============================================================================================\n",
       "\"\"\""
      ]
     },
     "execution_count": 125,
     "metadata": {},
     "output_type": "execute_result"
    }
   ],
   "source": [
    "poisson_model = smf.glm(formula=\"goals ~ home + team + opponent\", data=goal_model_data, \n",
    "                        family=sm.families.Poisson()).fit()\n",
    "poisson_model.summary()"
   ]
  },
  {
   "cell_type": "code",
   "execution_count": 126,
   "metadata": {},
   "outputs": [
    {
     "data": {
      "text/plain": [
       "1    2.038263\n",
       "dtype: float64"
      ]
     },
     "execution_count": 126,
     "metadata": {},
     "output_type": "execute_result"
    }
   ],
   "source": [
    "poisson_model.predict(pd.DataFrame(data={'team': 'Chelsea', 'opponent': 'Arsenal',\n",
    "                                       'home':1},index=[1]))"
   ]
  },
  {
   "cell_type": "code",
   "execution_count": 131,
   "metadata": {},
   "outputs": [
    {
     "data": {
      "text/plain": [
       "1    1.186388\n",
       "dtype: float64"
      ]
     },
     "execution_count": 131,
     "metadata": {},
     "output_type": "execute_result"
    }
   ],
   "source": [
    "poisson_model.predict(pd.DataFrame(data={'team': 'Arsenal', 'opponent': 'Chelsea',\n",
    "                                       'home':0},index=[1]))"
   ]
  },
  {
   "cell_type": "code",
   "execution_count": 134,
   "metadata": {},
   "outputs": [],
   "source": [
    "def simulate_match(foot_model, homeTeam, awayTeam, max_goals=10):\n",
    "    home_goals_avg = foot_model.predict(pd.DataFrame(data={'team': homeTeam, \n",
    "                                                            'opponent': awayTeam,'home':1},\n",
    "                                                      index=[1])).values[0]\n",
    "    away_goals_avg = foot_model.predict(pd.DataFrame(data={'team': awayTeam, \n",
    "                                                            'opponent': homeTeam,'home':0},\n",
    "                                                      index=[1])).values[0]\n",
    "    team_pred = [[sp.stats.poisson.pmf(i, team_avg) for i in range(0, max_goals+1)] for team_avg in [home_goals_avg, away_goals_avg]]\n",
    "    return(np.outer(np.array(team_pred[0]), np.array(team_pred[1])))"
   ]
  },
  {
   "cell_type": "code",
   "execution_count": 158,
   "metadata": {},
   "outputs": [
    {
     "data": {
      "text/plain": [
       "array([[0.03976966, 0.04718225, 0.02798823, 0.0110683 ],\n",
       "       [0.08106103, 0.09616983, 0.05704736, 0.0225601 ],\n",
       "       [0.08261185, 0.0980097 , 0.05813876, 0.02299171],\n",
       "       [0.05612822, 0.06658985, 0.0395007 , 0.01562105]])"
      ]
     },
     "execution_count": 158,
     "metadata": {},
     "output_type": "execute_result"
    }
   ],
   "source": [
    "simulate_match(poisson_model, 'Chelsea', 'Arsenal', max_goals=3)"
   ]
  },
  {
   "cell_type": "code",
   "execution_count": 177,
   "metadata": {},
   "outputs": [
    {
     "name": "stdout",
     "output_type": "stream",
     "text": [
      "Arsenal v West Ham\n",
      "Arsenal win:\t0.752659577788586\n",
      "Draw:\t\t0.21230468896266444\n",
      "West Ham win:\t0.10554513744438693\n"
     ]
    }
   ],
   "source": [
    "chel_ars = simulate_match(poisson_model, \"Arsenal\", \"West Ham\", max_goals=10)\n",
    "print(\"Arsenal v West Ham\\nArsenal win:\\t{cw}\\nDraw:\\t\\t{d}\\nWest Ham win:\\t{aw}\".format(\n",
    "    cw=np.sum(np.tril(chel_ars, -1)),\n",
    "    d=np.sum(np.diag(chel_sun)),\n",
    "    aw=np.sum(np.triu(chel_ars, 1))\n",
    "))"
   ]
  },
  {
   "cell_type": "code",
   "execution_count": 201,
   "metadata": {},
   "outputs": [
    {
     "name": "stderr",
     "output_type": "stream",
     "text": [
      "/usr/local/lib/python3.6/site-packages/ipykernel_launcher.py:3: SettingWithCopyWarning: \n",
      "A value is trying to be set on a copy of a slice from a DataFrame.\n",
      "Try using .loc[row_indexer,col_indexer] = value instead\n",
      "\n",
      "See the caveats in the documentation: http://pandas.pydata.org/pandas-docs/stable/indexing.html#indexing-view-versus-copy\n",
      "  This is separate from the ipykernel package so we can avoid doing imports until\n",
      "/usr/local/lib/python3.6/site-packages/ipykernel_launcher.py:4: SettingWithCopyWarning: \n",
      "A value is trying to be set on a copy of a slice from a DataFrame.\n",
      "Try using .loc[row_indexer,col_indexer] = value instead\n",
      "\n",
      "See the caveats in the documentation: http://pandas.pydata.org/pandas-docs/stable/indexing.html#indexing-view-versus-copy\n",
      "  after removing the cwd from sys.path.\n"
     ]
    }
   ],
   "source": [
    "# epl_halves = pd.read_csv(\"http://www.football-data.co.uk/mmz4281/1617/E0.csv\")\n",
    "epl_halves = epl[['HomeGoals', 'AwayGoals', 'HTHG', 'HTAG']]\n",
    "epl_halves['FHgoals'] = epl_halves['HTHG'] + epl_halves['HTAG']\n",
    "epl_halves['SHgoals'] = epl_halves['HomeGoals'] + epl_halves['AwayGoals'] - epl_halves['FHgoals']\n",
    "epl_halves = epl_halves[['FHgoals', 'SHgoals']]"
   ]
  },
  {
   "cell_type": "code",
   "execution_count": 203,
   "metadata": {},
   "outputs": [
    {
     "data": {
      "text/html": [
       "<div>\n",
       "<style scoped>\n",
       "    .dataframe tbody tr th:only-of-type {\n",
       "        vertical-align: middle;\n",
       "    }\n",
       "\n",
       "    .dataframe tbody tr th {\n",
       "        vertical-align: top;\n",
       "    }\n",
       "\n",
       "    .dataframe thead th {\n",
       "        text-align: right;\n",
       "    }\n",
       "</style>\n",
       "<table border=\"1\" class=\"dataframe\">\n",
       "  <thead>\n",
       "    <tr style=\"text-align: right;\">\n",
       "      <th></th>\n",
       "      <th>FHgoals</th>\n",
       "      <th>SHgoals</th>\n",
       "    </tr>\n",
       "  </thead>\n",
       "  <tbody>\n",
       "    <tr>\n",
       "      <th>0</th>\n",
       "      <td>0</td>\n",
       "      <td>1</td>\n",
       "    </tr>\n",
       "    <tr>\n",
       "      <th>1</th>\n",
       "      <td>0</td>\n",
       "      <td>1</td>\n",
       "    </tr>\n",
       "    <tr>\n",
       "      <th>2</th>\n",
       "      <td>1</td>\n",
       "      <td>1</td>\n",
       "    </tr>\n",
       "    <tr>\n",
       "      <th>3</th>\n",
       "      <td>1</td>\n",
       "      <td>2</td>\n",
       "    </tr>\n",
       "    <tr>\n",
       "      <th>4</th>\n",
       "      <td>1</td>\n",
       "      <td>2</td>\n",
       "    </tr>\n",
       "  </tbody>\n",
       "</table>\n",
       "</div>"
      ],
      "text/plain": [
       "   FHgoals  SHgoals\n",
       "0        0        1\n",
       "1        0        1\n",
       "2        1        1\n",
       "3        1        2\n",
       "4        1        2"
      ]
     },
     "execution_count": 203,
     "metadata": {},
     "output_type": "execute_result"
    }
   ],
   "source": [
    "epl_halves.head()"
   ]
  },
  {
   "cell_type": "code",
   "execution_count": 211,
   "metadata": {},
   "outputs": [
    {
     "name": "stderr",
     "output_type": "stream",
     "text": [
      "/usr/local/lib/python3.6/site-packages/scipy/stats/stats.py:1713: FutureWarning: Using a non-tuple sequence for multidimensional indexing is deprecated; use `arr[tuple(seq)]` instead of `arr[seq]`. In the future this will be interpreted as an array index, `arr[np.array(seq)]`, which will result either in an error or a different result.\n",
      "  return np.add.reduce(sorted[indexer] * weights, axis=axis) / sumval\n"
     ]
    },
    {
     "data": {
      "text/plain": [
       "<matplotlib.legend.Legend at 0x122de6eb8>"
      ]
     },
     "execution_count": 211,
     "metadata": {},
     "output_type": "execute_result"
    },
    {
     "data": {
      "image/png": "[encoded data removed]",
      "text/plain": [
       "<Figure size 432x288 with 1 Axes>"
      ]
     },
     "metadata": {},
     "output_type": "display_data"
    }
   ],
   "source": [
    "sns.distplot(epl_halves['FHgoals'], color=\"skyblue\", hist=True, kde=False, norm_hist=True, label=\"First Half\")\n",
    "sns.distplot(epl_halves['SHgoals'], color=\"red\", hist=True, kde=False, norm_hist=True, label=\"Second Half\")\n",
    "plt.legend()"
   ]
  },
  {
   "cell_type": "code",
   "execution_count": null,
   "metadata": {},
   "outputs": [],
   "source": []
  },
  {
   "cell_type": "code",
   "execution_count": null,
   "metadata": {},
   "outputs": [],
   "source": []
  }
 ],
 "metadata": {
  "kernelspec": {
   "display_name": "Python 3",
   "language": "python",
   "name": "python3"
  },
  "language_info": {
   "codemirror_mode": {
    "name": "ipython",
    "version": 3
   },
   "file_extension": ".py",
   "mimetype": "text/x-python",
   "name": "python",
   "nbconvert_exporter": "python",
   "pygments_lexer": "ipython3",
   "version": "3.6.4"
  }
 },
 "nbformat": 4,
 "nbformat_minor": 2
}
