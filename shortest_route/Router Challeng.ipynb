{
 "cells": [
  {
   "cell_type": "code",
   "execution_count": 1,
   "metadata": {},
   "outputs": [],
   "source": [
    "from typing import Set, Union, List, Generator, Iterator, Iterable, Tuple\n",
    "from collections import namedtuple\n",
    "import hashlib\n",
    "\n",
    "Node = namedtuple('nodes', ['id'])\n",
    "Edge = namedtuple('edge', ['id', 'src', 'dst', 'length'])"
   ]
  },
  {
   "cell_type": "markdown",
   "metadata": {},
   "source": [
    "### Load data into nodes and edges"
   ]
  },
  {
   "cell_type": "code",
   "execution_count": 2,
   "metadata": {},
   "outputs": [],
   "source": [
    "nodes = []\n",
    "edges = []\n",
    "\n",
    "with open('../data/shortest_route/citymapper-coding-test-graph.dat', 'r') as f:\n",
    "    data = f.readlines()\n",
    "    \n",
    "# Number of vertices\n",
    "N = int(data[0].strip(\"\\n\"))\n",
    "for i in range(1, N+1):\n",
    "    nodes.append(Node(int(data[i].strip(\"\\n\"))))\n",
    "\n",
    "# Number of edges\n",
    "E = int(data[N+1])\n",
    "for i in range(N+2, E+1):\n",
    "    src, dst, length = data[i].strip(\"\\n\").split(\" \")\n",
    "    e_id = hashlib.sha256(\"{}_{}\".format(src,dst).encode()).hexdigest()\n",
    "    edges.append(Edge(e_id, int(src), int(dst), int(length)))"
   ]
  },
  {
   "cell_type": "markdown",
   "metadata": {},
   "source": [
    "### Graph class"
   ]
  },
  {
   "cell_type": "code",
   "execution_count": 3,
   "metadata": {},
   "outputs": [],
   "source": [
    "class CityMapperGraph(object):\n",
    "    \n",
    "    def __init__(self, \n",
    "                 nodes: Union[Iterator[Node]]=None, \n",
    "                 edges: Union[Iterator[Edge]]=None):\n",
    "        self.nodes = set(nodes) if nodes else set()\n",
    "        self.edges = set(edges) if edges else set()\n",
    "        self.adjacency = {}\n",
    "        self.inverted_edges = {}\n",
    "        self._populate_indexes()\n",
    "        \n",
    "    def make_edge_id(self, src: Union[str, int, Node], dst: Union[str, int, Node]) -> str:\n",
    "        if isinstance(src, Node):\n",
    "            src = src.id\n",
    "        if isinstance(dst, Node):\n",
    "            dst = dst.id\n",
    "        return hashlib.sha256(\"{}_{}\".format(str(src),str(dst)).encode()).hexdigest()\n",
    "        \n",
    "    def _populate_indexes(self):\n",
    "        for e in self.edges:\n",
    "            # Populate adjacency list for source -> destination\n",
    "            if e.src in self.adjacency:\n",
    "                self.adjacency[e.src].update([e.dst])\n",
    "            else:\n",
    "                self.adjacency[e.src] = set([e.dst])\n",
    "            # Populate adjacency list for destination -> source\n",
    "            if e.dst in self.adjacency:\n",
    "                self.adjacency[e.dst].update([e.src])\n",
    "            else:\n",
    "                self.adjacency[e.dst] = set([e.src])\n",
    "            if e.id not in self.inverted_edges:\n",
    "                self.inverted_edges[e.id] = [e.src, e.dst, e.length]\n",
    "                \n",
    "    def add_nodes(self, nodes: Union[Node,\n",
    "                                     str, \n",
    "                                     int, \n",
    "                                     Iterable[Union[Node, str, int]]]\n",
    "                 ):\n",
    "        if isinstance(nodes, (str, int)):\n",
    "            node = Node(int(nodes))\n",
    "            self.nodes.update([node])\n",
    "        elif isinstance(nodes, Iterable):\n",
    "            for node in nodes:\n",
    "                if isinstance(node, (int, str)):\n",
    "                    node = Node(int(node))\n",
    "                self.nodes.update([node])\n",
    "                \n",
    "    def add_edges(self, edges: Union[Edge, Iterable[Edge]]):\n",
    "        if isinstance(edge, Edge):\n",
    "            self.add_nodes([e.src, e.dst])\n",
    "            self.edges.update([e])\n",
    "                \n",
    "    def find_nodes(self, nodes: Union[str, \n",
    "                                     int, \n",
    "                                     Iterable[Union[Node, str, int]]]\n",
    "                  ) -> Generator[bool, None, int]:\n",
    "        count = 0\n",
    "        if isinstance(nodes, (str, int)):\n",
    "            if Node(int(nodes)) in self.nodes:\n",
    "                count +=1\n",
    "                yield True\n",
    "        elif isinstance(nodes, Iterable):\n",
    "            for node in nodes:\n",
    "                if isinstance(node, (str, int)):\n",
    "                    node = Node(Node)\n",
    "                if node in self.nodes:\n",
    "                    count +=1\n",
    "                    yield True\n",
    "        return self\n",
    "\n",
    "    def find_edges(self, edges: Union[str,\n",
    "                                     Tuple[Union[str, Node], Union[str, Node]],\n",
    "                                     Iterable[Union[Edge, str]]]\n",
    "                 ) -> Generator[bool, None, int]:\n",
    "        count = 0\n",
    "        if isinstance(edges, str):\n",
    "            if edges in self.inverted_edges:\n",
    "                count += 1\n",
    "                yield True\n",
    "        elif isinstance(edges, Edge):\n",
    "            if edges.id in self.inverted_edges:\n",
    "                count += 1\n",
    "                yield True\n",
    "        elif isinstance(edges, Tuple):\n",
    "            edge_id = self.make_edge_id(edges[0], edges[1])\n",
    "            if edge_id in self.inverted_edges:\n",
    "                count += 1\n",
    "                yield True            \n",
    "        elif isinstance(edges, Iterable):\n",
    "            for edge in edges:\n",
    "                if isinstance(edge, Edge):\n",
    "                    edge = edge.id\n",
    "                if isinstance(edge, Tuple):\n",
    "                    edge = self.make_edge_id(edge[0], edge[1])\n",
    "                if edge in self.inverted_edges:\n",
    "                    count += 1\n",
    "                    yield True\n",
    "        return count"
   ]
  },
  {
   "cell_type": "code",
   "execution_count": 23,
   "metadata": {},
   "outputs": [
    {
     "data": {
      "text/plain": [
       "[True]"
      ]
     },
     "execution_count": 23,
     "metadata": {},
     "output_type": "execute_result"
    }
   ],
   "source": [
    "\n",
    "list(graph.find_nodes(['1084140204'])), # Passing an array of string\n",
    "list(graph.find_nodes([1084140204])), # Passing an array of integer\n",
    "list(graph.find_nodes(nodeTrue)), # Passing in a Node[True]\n",
    "\n",
    "[n in graph.nodes for n in [Node(1084140204)]]"
   ]
  },
  {
   "cell_type": "markdown",
   "metadata": {},
   "source": [
    "### Unit Tests"
   ]
  },
  {
   "cell_type": "code",
   "execution_count": 5,
   "metadata": {},
   "outputs": [
    {
     "ename": "AssertionError",
     "evalue": "",
     "output_type": "error",
     "traceback": [
      "\u001b[0;31m---------------------------------------------------------------------------\u001b[0m",
      "\u001b[0;31mAssertionError\u001b[0m                            Traceback (most recent call last)",
      "\u001b[0;32m<ipython-input-5-96cf5266a051>\u001b[0m in \u001b[0;36m<module>\u001b[0;34m\u001b[0m\n\u001b[1;32m     33\u001b[0m \u001b[0mM\u001b[0m \u001b[0;34m=\u001b[0m \u001b[0mlen\u001b[0m\u001b[0;34m(\u001b[0m\u001b[0mneg_results\u001b[0m\u001b[0;34m)\u001b[0m\u001b[0;34m\u001b[0m\u001b[0m\n\u001b[1;32m     34\u001b[0m \u001b[0;34m\u001b[0m\u001b[0m\n\u001b[0;32m---> 35\u001b[0;31m \u001b[0;32massert\u001b[0m \u001b[0mall\u001b[0m\u001b[0;34m(\u001b[0m\u001b[0;34m[\u001b[0m\u001b[0mlen\u001b[0m\u001b[0;34m(\u001b[0m\u001b[0mpos_results\u001b[0m\u001b[0;34m[\u001b[0m\u001b[0mi\u001b[0m\u001b[0;34m]\u001b[0m\u001b[0;34m)\u001b[0m \u001b[0;34m==\u001b[0m \u001b[0;36m1\u001b[0m \u001b[0;32mfor\u001b[0m \u001b[0mi\u001b[0m \u001b[0;32min\u001b[0m \u001b[0mrange\u001b[0m\u001b[0;34m(\u001b[0m\u001b[0mN\u001b[0m\u001b[0;34m)\u001b[0m\u001b[0;34m]\u001b[0m\u001b[0;34m)\u001b[0m\u001b[0;34m\u001b[0m\u001b[0m\n\u001b[0m\u001b[1;32m     36\u001b[0m \u001b[0;32massert\u001b[0m \u001b[0mall\u001b[0m\u001b[0;34m(\u001b[0m\u001b[0;34m[\u001b[0m\u001b[0mpos_results\u001b[0m\u001b[0;34m[\u001b[0m\u001b[0mi\u001b[0m\u001b[0;34m]\u001b[0m \u001b[0;32mfor\u001b[0m \u001b[0mi\u001b[0m \u001b[0;32min\u001b[0m \u001b[0mrange\u001b[0m\u001b[0;34m(\u001b[0m\u001b[0mN\u001b[0m\u001b[0;34m)\u001b[0m\u001b[0;34m]\u001b[0m\u001b[0;34m)\u001b[0m\u001b[0;34m\u001b[0m\u001b[0m\n\u001b[1;32m     37\u001b[0m \u001b[0;32massert\u001b[0m \u001b[0mall\u001b[0m\u001b[0;34m(\u001b[0m\u001b[0;34m[\u001b[0m\u001b[0mlen\u001b[0m\u001b[0;34m(\u001b[0m\u001b[0mneg_results\u001b[0m\u001b[0;34m[\u001b[0m\u001b[0mi\u001b[0m\u001b[0;34m]\u001b[0m\u001b[0;34m)\u001b[0m \u001b[0;34m==\u001b[0m \u001b[0;36m0\u001b[0m \u001b[0;32mfor\u001b[0m \u001b[0mi\u001b[0m \u001b[0;32min\u001b[0m \u001b[0mrange\u001b[0m\u001b[0;34m(\u001b[0m\u001b[0mM\u001b[0m\u001b[0;34m)\u001b[0m\u001b[0;34m]\u001b[0m\u001b[0;34m)\u001b[0m\u001b[0;34m\u001b[0m\u001b[0m\n",
      "\u001b[0;31mAssertionError\u001b[0m: "
     ]
    }
   ],
   "source": [
    "graph = CityMapperGraph()\n",
    "nodeTrue = Node(316319897)\n",
    "nodeFalse = Node(0)\n",
    "edgeTrue = Edge(\"1c0597617b180d1bbe34e89bdd5370d923428868554c7190274535614b806d33\", 316319897, 316319936, 121)\n",
    "edgeFalse = Edge(\"false\", 0, 1, 0)\n",
    "srcNodeTrue, dstNodeTrue = edgeTrue.src, edgeTrue.dst\n",
    "\n",
    "graph.add_nodes(1084140204)\n",
    "graph.add_nodes([nodeTrue, srcNodeTrue, dstNodeTrue])\n",
    "\n",
    "#########\n",
    "# Nodes #\n",
    "#########\n",
    "pos_results = [\n",
    "    list(graph.find_nodes('1084140204')), # Passing a string\n",
    "    list(graph.find_nodes(['1084140204'])), # Passing an array of string\n",
    "    list(graph.find_nodes(1084140204)), # Passing an integer\n",
    "    list(graph.find_nodes([1084140204])), # Passing an array of integer\n",
    "    list(graph.find_nodes(nodeTrue)), # Passing in a Node\n",
    "    list(graph.find_nodes([nodeTrue])) # Passing in an array of Node\n",
    "]\n",
    "\n",
    "neg_results = [\n",
    "    list(graph.find_nodes('0')), # Passing a string\n",
    "    list(graph.find_nodes(['0'])), # Passing an array of string\n",
    "    list(graph.find_nodes(0)), # Passing an integer\n",
    "    list(graph.find_nodes([0])), # Passing an array of integer\n",
    "    list(graph.find_nodes(nodeFalse)), # Passing in a Node\n",
    "    list(graph.find_nodes([nodeFalse])) # Passing in an array of Node\n",
    "]\n",
    "\n",
    "N = len(pos_results)\n",
    "M = len(neg_results)\n",
    "\n",
    "assert all([len(pos_results[i]) == 1 for i in range(N)])\n",
    "assert all([pos_results[i] for i in range(N)])\n",
    "assert all([len(neg_results[i]) == 0 for i in range(M)])\n",
    "assert all([not neg_results[i] for i in range(M)])\n",
    "\n",
    "#########\n",
    "# Edges #\n",
    "#########\n",
    "\n",
    "# pos_results = [\n",
    "#     list(graph.find_edges(edgeTrue.id)), # Passing a string\n",
    "#     list(graph.find_edges(edgeTrue)), # Passing a string\n",
    "#     list(graph.find_edges([edgeTrue.id])), # Passing a string\n",
    "#     list(graph.find_edges([edgeTrue])), # Passing a string\n",
    "#     list(graph.find_edges((srcNodeTrue, dstNodeTrue))), \n",
    "#     list(graph.find_edges([(srcNodeTrue, dstNodeTrue)]))\n",
    "# ]\n",
    "\n",
    "# neg_results = [\n",
    "#     list(graph.find_edges(edgeFalse.id)), # Passing a string\n",
    "#     list(graph.find_edges(edgeFalse)), # Passing a string\n",
    "#     list(graph.find_edges([edgeFalse.id])), # Passing a string\n",
    "#     list(graph.find_edges([edgeFalse])), # Passing a string\n",
    "#     list(graph.find_edges((nodeTrue, nodeFalse))), \n",
    "#     list(graph.find_edges([(nodeTrue, nodeFalse)])),\n",
    "#     list(graph.find_edges((nodeFalse, nodeTrue))), \n",
    "#     list(graph.find_edges([(nodeFalse, nodeTrue)]))    \n",
    "# ]\n",
    "\n",
    "# N = len(pos_results)\n",
    "# M = len(neg_results)\n",
    "\n",
    "# assert all([len(pos_results[i]) == 1 for i in range(N)])\n",
    "# assert all([pos_results[i] for i in range(N)])\n",
    "# assert all([len(neg_results[i]) == 0 for i in range(M)])\n",
    "# assert all([not neg_results[i] for i in range(M)])"
   ]
  },
  {
   "cell_type": "code",
   "execution_count": null,
   "metadata": {},
   "outputs": [],
   "source": []
  },
  {
   "cell_type": "code",
   "execution_count": null,
   "metadata": {},
   "outputs": [],
   "source": []
  },
  {
   "cell_type": "code",
   "execution_count": null,
   "metadata": {},
   "outputs": [],
   "source": []
  }
 ],
 "metadata": {
  "kernelspec": {
   "display_name": "Python 3",
   "language": "python",
   "name": "python3"
  },
  "language_info": {
   "codemirror_mode": {
    "name": "ipython",
    "version": 3
   },
   "file_extension": ".py",
   "mimetype": "text/x-python",
   "name": "python",
   "nbconvert_exporter": "python",
   "pygments_lexer": "ipython3",
   "version": "3.6.5"
  }
 },
 "nbformat": 4,
 "nbformat_minor": 2
}
