{
 "cells": [
  {
   "cell_type": "code",
   "execution_count": 94,
   "metadata": {},
   "outputs": [],
   "source": [
    "import hashlib\n",
    "from importlib import reload"
   ]
  },
  {
   "cell_type": "code",
   "execution_count": 95,
   "metadata": {},
   "outputs": [],
   "source": [
    "import elements\n",
    "import graph\n",
    "from graph import CityMapperGraph\n",
    "from elements import Node, Edge\n",
    "reload(graph)\n",
    "reload(elements)\n",
    "from graph import CityMapperGraph\n",
    "from elements import Node, Edge"
   ]
  },
  {
   "cell_type": "markdown",
   "metadata": {},
   "source": [
    "### Load data into nodes and edges"
   ]
  },
  {
   "cell_type": "code",
   "execution_count": 96,
   "metadata": {},
   "outputs": [],
   "source": [
    "nodes = []\n",
    "edges = []\n",
    "\n",
    "with open('../data/shortest_route/citymapper-coding-test-graph.dat', 'r') as f:\n",
    "    data = f.readlines()\n",
    "    \n",
    "# Number of vertices\n",
    "N = int(data[0].strip(\"\\n\"))\n",
    "for i in range(1, N+1):\n",
    "    nodes.append(Node(id=int(data[i].strip(\"\\n\"))))\n",
    "\n",
    "# Number of edges\n",
    "E = int(data[N+1])\n",
    "for i in range(N+2, E+1):\n",
    "    src, dst, length = data[i].strip(\"\\n\").split(\" \")\n",
    "    e_id = hashlib.sha256(\"{}_{}\".format(src,dst).encode()).hexdigest()\n",
    "    edges.append(Edge(id=e_id, src=Node(id=int(src)), dst=Node(id=int(dst)), length=int(length)))"
   ]
  },
  {
   "cell_type": "markdown",
   "metadata": {},
   "source": [
    "### Graph class"
   ]
  },
  {
   "cell_type": "code",
   "execution_count": 97,
   "metadata": {},
   "outputs": [],
   "source": [
    "g = CityMapperGraph()\n",
    "nodeTrue = Node(id=316319897)\n",
    "nodeFalse = Node(0)\n",
    "edgeTrue = Edge(id=\"1c0597617b180d1bbe34e89bdd5370d923428868554c7190274535614b806d33\", \n",
    "                src=Node(id=316319897), \n",
    "                dst=Node(316319936), \n",
    "                length=121)\n",
    "edgeFalse = Edge(id=\"false\", src=Node(id=0), dst=Node(id=1), length=0)\n",
    "srcNodeTrue, dstNodeTrue = edgeTrue.src, edgeTrue.dst\n",
    "\n",
    "g.add_nodes(1084140204)\n",
    "g.add_nodes([nodeTrue, srcNodeTrue, dstNodeTrue])\n",
    "\n"
   ]
  },
  {
   "cell_type": "code",
   "execution_count": 105,
   "metadata": {},
   "outputs": [
    {
     "data": {
      "text/plain": [
       "([],)"
      ]
     },
     "execution_count": 105,
     "metadata": {},
     "output_type": "execute_result"
    }
   ],
   "source": [
    "# list(g.find_nodes(['1084140204'])), # Passing an array of string\n",
    "# list(g.find_nodes([1084140204])), # Passing an array of integer\n",
    "list(g.find_nodes(nodeTrue)), # Passing in a Node\n",
    "\n",
    "# [n in g.nodes for n in [Node(id=316319897)]]"
   ]
  },
  {
   "cell_type": "code",
   "execution_count": 104,
   "metadata": {},
   "outputs": [
    {
     "data": {
      "text/plain": [
       "True"
      ]
     },
     "execution_count": 104,
     "metadata": {},
     "output_type": "execute_result"
    }
   ],
   "source": []
  },
  {
   "cell_type": "code",
   "execution_count": null,
   "metadata": {},
   "outputs": [],
   "source": []
  },
  {
   "cell_type": "markdown",
   "metadata": {},
   "source": [
    "### Unit Tests"
   ]
  },
  {
   "cell_type": "code",
   "execution_count": null,
   "metadata": {},
   "outputs": [],
   "source": [
    "#########\n",
    "# Nodes #\n",
    "#########\n",
    "pos_results = [\n",
    "    list(g.find_nodes('1084140204')), # Passing a string\n",
    "    list(g.find_nodes(['1084140204'])), # Passing an array of string\n",
    "    list(g.find_nodes(1084140204)), # Passing an integer\n",
    "    list(g.find_nodes([1084140204])), # Passing an array of integer\n",
    "    list(g.find_nodes(nodeTrue)), # Passing in a Node\n",
    "    list(g.find_nodes([nodeTrue])) # Passing in an array of Node\n",
    "]\n",
    "\n",
    "neg_results = [\n",
    "    list(g.find_nodes('0')), # Passing a string\n",
    "    list(g.find_nodes(['0'])), # Passing an array of string\n",
    "    list(g.find_nodes(0)), # Passing an integer\n",
    "    list(g.find_nodes([0])), # Passing an array of integer\n",
    "    list(g.find_nodes(nodeFalse)), # Passing in a Node\n",
    "    list(g.find_nodes([nodeFalse])) # Passing in an array of Node\n",
    "]\n",
    "\n",
    "N = len(pos_results)\n",
    "M = len(neg_results)\n",
    "\n",
    "assert all([len(pos_results[i]) == 1 for i in range(N)])\n",
    "assert all([pos_results[i] for i in range(N)])\n",
    "assert all([len(neg_results[i]) == 0 for i in range(M)])\n",
    "assert all([not neg_results[i] for i in range(M)])\n",
    "\n",
    "#########\n",
    "# Edges #\n",
    "#########\n",
    "\n",
    "# pos_results = [\n",
    "#     list(g.find_edges(edgeTrue.id)), # Passing a string\n",
    "#     list(g.find_edges(edgeTrue)), # Passing a string\n",
    "#     list(g.find_edges([edgeTrue.id])), # Passing a string\n",
    "#     list(g.find_edges([edgeTrue])), # Passing a string\n",
    "#     list(g.find_edges((srcNodeTrue, dstNodeTrue))), \n",
    "#     list(g.find_edges([(srcNodeTrue, dstNodeTrue)]))\n",
    "# ]\n",
    "\n",
    "# neg_results = [\n",
    "#     list(g.find_edges(edgeFalse.id)), # Passing a string\n",
    "#     list(g.find_edges(edgeFalse)), # Passing a string\n",
    "#     list(g.find_edges([edgeFalse.id])), # Passing a string\n",
    "#     list(g.find_edges([edgeFalse])), # Passing a string\n",
    "#     list(g.find_edges((nodeTrue, nodeFalse))), \n",
    "#     list(g.find_edges([(nodeTrue, nodeFalse)])),\n",
    "#     list(g.find_edges((nodeFalse, nodeTrue))), \n",
    "#     list(g.find_edges([(nodeFalse, nodeTrue)]))    \n",
    "# ]\n",
    "\n",
    "# N = len(pos_results)\n",
    "# M = len(neg_results)\n",
    "\n",
    "# assert all([len(pos_results[i]) == 1 for i in range(N)])\n",
    "# assert all([pos_results[i] for i in range(N)])\n",
    "# assert all([len(neg_results[i]) == 0 for i in range(M)])\n",
    "# assert all([not neg_results[i] for i in range(M)])"
   ]
  },
  {
   "cell_type": "code",
   "execution_count": null,
   "metadata": {},
   "outputs": [],
   "source": []
  },
  {
   "cell_type": "code",
   "execution_count": null,
   "metadata": {},
   "outputs": [],
   "source": []
  },
  {
   "cell_type": "code",
   "execution_count": null,
   "metadata": {},
   "outputs": [],
   "source": []
  }
 ],
 "metadata": {
  "kernelspec": {
   "display_name": "Python 3",
   "language": "python",
   "name": "python3"
  },
  "language_info": {
   "codemirror_mode": {
    "name": "ipython",
    "version": 3
   },
   "file_extension": ".py",
   "mimetype": "text/x-python",
   "name": "python",
   "nbconvert_exporter": "python",
   "pygments_lexer": "ipython3",
   "version": "3.6.5"
  }
 },
 "nbformat": 4,
 "nbformat_minor": 2
}
