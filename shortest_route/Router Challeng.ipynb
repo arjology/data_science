{
 "cells": [
  {
   "cell_type": "code",
   "execution_count": null,
   "metadata": {},
   "outputs": [],
   "source": [
    "import hashlib\n",
    "from importlib import reload\n",
    "import gc\n",
    "import math"
   ]
  },
  {
   "cell_type": "code",
   "execution_count": 2,
   "metadata": {},
   "outputs": [],
   "source": [
    "import shortest_route\n",
    "from shortest_route.lib import elements\n",
    "from shortest_route.lib import graph\n",
    "from shortest_route.lib.graph import CityMapperGraph\n",
    "from shortest_route.lib.elements import Node, Edge, NodeId, EdgeId, GraphElement\n",
    "reload(shortest_route)\n",
    "from shortest_route.lib.graph import CityMapperGraph\n",
    "from shortest_route.lib.elements import Node, Edge, NodeId, EdgeId, GraphElement"
   ]
  },
  {
   "cell_type": "markdown",
   "metadata": {},
   "source": [
    "### Load data into nodes and edges"
   ]
  },
  {
   "cell_type": "code",
   "execution_count": 3,
   "metadata": {},
   "outputs": [],
   "source": [
    "nodes = []\n",
    "edges = []\n",
    "\n",
    "with open('../data/shortest_route/citymapper-coding-test-graph.dat', 'r') as f:\n",
    "    data = f.readlines()\n",
    "    \n",
    "# Number of vertices\n",
    "N = int(data[0].strip(\"\\n\"))\n",
    "for i in range(1, N+1):\n",
    "    nodes.append(Node(uid_=int(data[i].strip(\"\\n\"))))\n",
    "\n",
    "# Number of edges\n",
    "E = int(data[N+1])\n",
    "for i in range(N+2, E+1):\n",
    "    src, dst, length = data[i].strip(\"\\n\").split(\" \")\n",
    "    e_id = hashlib.sha256(\"{}_{}\".format(src,dst).encode()).hexdigest()\n",
    "    edges.append(Edge(uid_=e_id, src=Node(uid_=int(src)), dst=Node(uid_=int(dst)), length=int(length)))"
   ]
  },
  {
   "cell_type": "code",
   "execution_count": 4,
   "metadata": {},
   "outputs": [],
   "source": [
    "g = CityMapperGraph()\n",
    "g.load_nodes_and_edges(nodes=nodes, edges=edges)"
   ]
  },
  {
   "cell_type": "code",
   "execution_count": 5,
   "metadata": {},
   "outputs": [],
   "source": [
    "src='316319952'\n",
    "dst=316319241"
   ]
  },
  {
   "cell_type": "code",
   "execution_count": 6,
   "metadata": {},
   "outputs": [
    {
     "data": {
      "text/plain": [
       "([316319952, 316319241], 36)"
      ]
     },
     "execution_count": 6,
     "metadata": {},
     "output_type": "execute_result"
    }
   ],
   "source": [
    "g.distance(NodeId(uid_=src),NodeId(uid_=dst))"
   ]
  },
  {
   "cell_type": "code",
   "execution_count": null,
   "metadata": {},
   "outputs": [],
   "source": [
    "import networkx as nx\n",
    "G = nx.Graph()\n",
    "for n in nodes:\n",
    "    G.add_node(n.uid())\n",
    "for e in edges:\n",
    "    G.add_edge(e.src.uid(), e.dst.uid(), weight=e.props.length)\n",
    "elarge = [(u, v) for (u, v, d) in G.edges(data=True) if d['weight'] == 29]    "
   ]
  },
  {
   "cell_type": "code",
   "execution_count": null,
   "metadata": {},
   "outputs": [],
   "source": [
    "print([p for p in nx.all_shortest_paths(G,source=src,target=dst, weight='weight')])\n",
    "print(nx.shortest_path_length(G,source=src,target=dst, weight='weight'))"
   ]
  },
  {
   "cell_type": "code",
   "execution_count": null,
   "metadata": {},
   "outputs": [],
   "source": [
    "g.edges()[1].uid()"
   ]
  },
  {
   "cell_type": "code",
   "execution_count": null,
   "metadata": {},
   "outputs": [],
   "source": [
    "Node(uid_=316319241) in g.nodes()"
   ]
  },
  {
   "cell_type": "code",
   "execution_count": null,
   "metadata": {},
   "outputs": [],
   "source": []
  },
  {
   "cell_type": "code",
   "execution_count": 7,
   "metadata": {},
   "outputs": [
    {
     "data": {
      "text/plain": [
       "316319952"
      ]
     },
     "execution_count": 7,
     "metadata": {},
     "output_type": "execute_result"
    }
   ],
   "source": [
    "Node.from_uid(NodeId(uid_='316319952')).uid()"
   ]
  },
  {
   "cell_type": "code",
   "execution_count": null,
   "metadata": {},
   "outputs": [],
   "source": []
  }
 ],
 "metadata": {
  "kernelspec": {
   "display_name": "Python 3",
   "language": "python",
   "name": "python3"
  },
  "language_info": {
   "codemirror_mode": {
    "name": "ipython",
    "version": 3
   },
   "file_extension": ".py",
   "mimetype": "text/x-python",
   "name": "python",
   "nbconvert_exporter": "python",
   "pygments_lexer": "ipython3",
   "version": "3.6.5"
  }
 },
 "nbformat": 4,
 "nbformat_minor": 2
}
