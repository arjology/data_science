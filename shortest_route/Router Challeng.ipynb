{
 "cells": [
  {
   "cell_type": "code",
   "execution_count": 146,
   "metadata": {},
   "outputs": [],
   "source": [
    "import hashlib\n",
    "from importlib import reload"
   ]
  },
  {
   "cell_type": "code",
   "execution_count": 166,
   "metadata": {},
   "outputs": [],
   "source": [
    "import shortest_route\n",
    "from shortest_route.lib import elements\n",
    "from shortest_route.lib import graph\n",
    "from shortest_route.lib.graph import CityMapperGraph\n",
    "from shortest_route.lib.elements import Node, Edge\n",
    "reload(shortest_route)\n",
    "from shortest_route.lib.graph import CityMapperGraph\n",
    "from shortest_route.lib.elements import Node, Edge"
   ]
  },
  {
   "cell_type": "markdown",
   "metadata": {},
   "source": [
    "### Load data into nodes and edges"
   ]
  },
  {
   "cell_type": "code",
   "execution_count": 167,
   "metadata": {},
   "outputs": [],
   "source": [
    "nodes = []\n",
    "edges = []\n",
    "\n",
    "with open('../data/shortest_route/citymapper-coding-test-graph.dat', 'r') as f:\n",
    "    data = f.readlines()\n",
    "    \n",
    "# Number of vertices\n",
    "N = int(data[0].strip(\"\\n\"))\n",
    "for i in range(1, N+1):\n",
    "    nodes.append(Node(uid=int(data[i].strip(\"\\n\"))))\n",
    "\n",
    "# Number of edges\n",
    "E = int(data[N+1])\n",
    "for i in range(N+2, E+1):\n",
    "    src, dst, length = data[i].strip(\"\\n\").split(\" \")\n",
    "    e_id = hashlib.sha256(\"{}_{}\".format(src,dst).encode()).hexdigest()\n",
    "    edges.append(Edge(uid=e_id, src=Node(uid=int(src)), dst=Node(uid=int(dst)), length=int(length)))"
   ]
  },
  {
   "cell_type": "markdown",
   "metadata": {},
   "source": [
    "### Graph class"
   ]
  },
  {
   "cell_type": "code",
   "execution_count": 169,
   "metadata": {},
   "outputs": [
    {
     "ename": "AssertionError",
     "evalue": "",
     "output_type": "error",
     "traceback": [
      "\u001b[0;31m---------------------------------------------------------------------------\u001b[0m",
      "\u001b[0;31mAssertionError\u001b[0m                            Traceback (most recent call last)",
      "\u001b[0;32m<ipython-input-169-0b41dff9c545>\u001b[0m in \u001b[0;36m<module>\u001b[0;34m\u001b[0m\n\u001b[0;32m----> 1\u001b[0;31m \u001b[0mg\u001b[0m \u001b[0;34m=\u001b[0m \u001b[0mCityMapperGraph\u001b[0m\u001b[0;34m(\u001b[0m\u001b[0;34m)\u001b[0m\u001b[0;34m\u001b[0m\u001b[0m\n\u001b[0m\u001b[1;32m      2\u001b[0m \u001b[0;31m# nodeTrue = Node(id=316319897)\u001b[0m\u001b[0;34m\u001b[0m\u001b[0;34m\u001b[0m\u001b[0m\n\u001b[1;32m      3\u001b[0m \u001b[0;31m# nodeFalse = Node(0)\u001b[0m\u001b[0;34m\u001b[0m\u001b[0;34m\u001b[0m\u001b[0m\n\u001b[1;32m      4\u001b[0m \u001b[0;31m# edgeTrue = Edge(id=\"1c0597617b180d1bbe34e89bdd5370d923428868554c7190274535614b806d33\",\u001b[0m\u001b[0;34m\u001b[0m\u001b[0;34m\u001b[0m\u001b[0m\n\u001b[1;32m      5\u001b[0m \u001b[0;31m#                 src=Node(id=316319897),\u001b[0m\u001b[0;34m\u001b[0m\u001b[0;34m\u001b[0m\u001b[0m\n",
      "\u001b[0;32m~/Documents/data_science/shortest_route/shortest_route/lib/graph.py\u001b[0m in \u001b[0;36m__init__\u001b[0;34m(self, nodes, edges)\u001b[0m\n\u001b[1;32m    259\u001b[0m                         \u001b[0mcount\u001b[0m \u001b[0;34m+=\u001b[0m \u001b[0;36m1\u001b[0m\u001b[0;34m\u001b[0m\u001b[0m\n\u001b[1;32m    260\u001b[0m         \u001b[0;32mreturn\u001b[0m \u001b[0mcount\u001b[0m\u001b[0;34m\u001b[0m\u001b[0m\n\u001b[0;32m--> 261\u001b[0;31m \u001b[0;34m\u001b[0m\u001b[0m\n\u001b[0m\u001b[1;32m    262\u001b[0m \u001b[0;34m\u001b[0m\u001b[0m\n\u001b[1;32m    263\u001b[0m \u001b[0;32mclass\u001b[0m \u001b[0mCityMapperGraph\u001b[0m\u001b[0;34m(\u001b[0m\u001b[0mGraph\u001b[0m\u001b[0;34m)\u001b[0m\u001b[0;34m:\u001b[0m\u001b[0;34m\u001b[0m\u001b[0m\n",
      "\u001b[0;32m~/Documents/data_science/shortest_route/shortest_route/lib/graph.py\u001b[0m in \u001b[0;36m_populate_indexes\u001b[0;34m(self, nodes, edges)\u001b[0m\n\u001b[1;32m    168\u001b[0m         \u001b[0;32mif\u001b[0m \u001b[0midx\u001b[0m \u001b[0;34m<\u001b[0m \u001b[0mnum\u001b[0m\u001b[0;34m:\u001b[0m\u001b[0;34m\u001b[0m\u001b[0m\n\u001b[1;32m    169\u001b[0m             \u001b[0mgraph_edge\u001b[0m \u001b[0;34m=\u001b[0m \u001b[0mself\u001b[0m\u001b[0;34m.\u001b[0m\u001b[0m_edges\u001b[0m\u001b[0;34m[\u001b[0m\u001b[0midx\u001b[0m\u001b[0;34m]\u001b[0m\u001b[0;34m\u001b[0m\u001b[0m\n\u001b[0;32m--> 170\u001b[0;31m             \u001b[0mgraph_edge\u001b[0m\u001b[0;34m.\u001b[0m\u001b[0mupdate\u001b[0m\u001b[0;34m(\u001b[0m\u001b[0medge\u001b[0m\u001b[0;34m)\u001b[0m\u001b[0;34m\u001b[0m\u001b[0m\n\u001b[0m\u001b[1;32m    171\u001b[0m         \u001b[0;32melse\u001b[0m\u001b[0;34m:\u001b[0m\u001b[0;34m\u001b[0m\u001b[0m\n\u001b[1;32m    172\u001b[0m             \u001b[0mgraph_edge\u001b[0m \u001b[0;34m=\u001b[0m \u001b[0medge\u001b[0m\u001b[0;34m.\u001b[0m\u001b[0mcopy\u001b[0m\u001b[0;34m(\u001b[0m\u001b[0;34m)\u001b[0m\u001b[0;34m\u001b[0m\u001b[0m\n",
      "\u001b[0;32m~/Documents/data_science/shortest_route/shortest_route/lib/graph.py\u001b[0m in \u001b[0;36madd_node\u001b[0;34m(self, node)\u001b[0m\n\u001b[1;32m    127\u001b[0m     \u001b[0;34m@\u001b[0m\u001b[0mclassmethod\u001b[0m\u001b[0;34m\u001b[0m\u001b[0m\n\u001b[1;32m    128\u001b[0m     \u001b[0;32mdef\u001b[0m \u001b[0mloads\u001b[0m\u001b[0;34m(\u001b[0m\u001b[0mcls\u001b[0m\u001b[0;34m,\u001b[0m \u001b[0mdata\u001b[0m\u001b[0;34m:\u001b[0m \u001b[0mbytes\u001b[0m\u001b[0;34m)\u001b[0m \u001b[0;34m->\u001b[0m \u001b[0;34m'Graph'\u001b[0m\u001b[0;34m:\u001b[0m\u001b[0;34m\u001b[0m\u001b[0m\n\u001b[0;32m--> 129\u001b[0;31m         \u001b[0;34m\"\"\"Deserialize graph.\"\"\"\u001b[0m\u001b[0;34m\u001b[0m\u001b[0m\n\u001b[0m\u001b[1;32m    130\u001b[0m         \u001b[0;32mreturn\u001b[0m \u001b[0mpickle\u001b[0m\u001b[0;34m.\u001b[0m\u001b[0mloads\u001b[0m\u001b[0;34m(\u001b[0m\u001b[0mdata\u001b[0m\u001b[0;34m)\u001b[0m\u001b[0;34m\u001b[0m\u001b[0m\n\u001b[1;32m    131\u001b[0m \u001b[0;34m\u001b[0m\u001b[0m\n",
      "\u001b[0;31mAssertionError\u001b[0m: "
     ]
    }
   ],
   "source": [
    "g = CityMapperGraph()\n",
    "# nodeTrue = Node(id=316319897)\n",
    "# nodeFalse = Node(0)\n",
    "# edgeTrue = Edge(id=\"1c0597617b180d1bbe34e89bdd5370d923428868554c7190274535614b806d33\", \n",
    "#                 src=Node(id=316319897), \n",
    "#                 dst=Node(316319936), \n",
    "#                 length=121)\n",
    "# edgeFalse = Edge(id=\"false\", src=Node(uid=0), dst=Node(uid=1), length=0)\n",
    "# srcNodeTrue, dstNodeTrue = edgeTrue.src, edgeTrue.dst\n",
    "\n",
    "# g.add_nodes(1084140204)\n",
    "# g.add_nodes([nodeTrue, srcNodeTrue, dstNodeTrue])\n",
    "# g.add_edges(edgeTrue)\n"
   ]
  },
  {
   "cell_type": "code",
   "execution_count": 144,
   "metadata": {},
   "outputs": [
    {
     "name": "stdout",
     "output_type": "stream",
     "text": [
      "False\n"
     ]
    },
    {
     "data": {
      "text/plain": [
       "([],)"
      ]
     },
     "execution_count": 144,
     "metadata": {},
     "output_type": "execute_result"
    }
   ],
   "source": [
    "# list(g.find_nodes(['1084140204'])), # Passing an array of string\n",
    "# list(g.find_nodes([1084140204])), # Passing an array of integer\n",
    "list(g.find_nodes(nodeTrue)), # Passing in a Node\n",
    "\n",
    "# Node(id=316319897) in g.nodes"
   ]
  },
  {
   "cell_type": "code",
   "execution_count": 145,
   "metadata": {},
   "outputs": [
    {
     "data": {
      "text/plain": [
       "True"
      ]
     },
     "execution_count": 145,
     "metadata": {},
     "output_type": "execute_result"
    }
   ],
   "source": [
    "isinstance(nodeTrue, Node)"
   ]
  },
  {
   "cell_type": "code",
   "execution_count": null,
   "metadata": {},
   "outputs": [],
   "source": []
  },
  {
   "cell_type": "markdown",
   "metadata": {},
   "source": [
    "### Unit Tests"
   ]
  },
  {
   "cell_type": "code",
   "execution_count": null,
   "metadata": {},
   "outputs": [],
   "source": [
    "#########\n",
    "# Nodes #\n",
    "#########\n",
    "pos_results = [\n",
    "    list(g.find_nodes('1084140204')), # Passing a string\n",
    "    list(g.find_nodes(['1084140204'])), # Passing an array of string\n",
    "    list(g.find_nodes(1084140204)), # Passing an integer\n",
    "    list(g.find_nodes([1084140204])), # Passing an array of integer\n",
    "    list(g.find_nodes(nodeTrue)), # Passing in a Node\n",
    "    list(g.find_nodes([nodeTrue])) # Passing in an array of Node\n",
    "]\n",
    "\n",
    "neg_results = [\n",
    "    list(g.find_nodes('0')), # Passing a string\n",
    "    list(g.find_nodes(['0'])), # Passing an array of string\n",
    "    list(g.find_nodes(0)), # Passing an integer\n",
    "    list(g.find_nodes([0])), # Passing an array of integer\n",
    "    list(g.find_nodes(nodeFalse)), # Passing in a Node\n",
    "    list(g.find_nodes([nodeFalse])) # Passing in an array of Node\n",
    "]\n",
    "\n",
    "N = len(pos_results)\n",
    "M = len(neg_results)\n",
    "\n",
    "assert all([len(pos_results[i]) == 1 for i in range(N)])\n",
    "assert all([pos_results[i] for i in range(N)])\n",
    "assert all([len(neg_results[i]) == 0 for i in range(M)])\n",
    "assert all([not neg_results[i] for i in range(M)])\n",
    "\n",
    "#########\n",
    "# Edges #\n",
    "#########\n",
    "\n",
    "# pos_results = [\n",
    "#     list(g.find_edges(edgeTrue.id)), # Passing a string\n",
    "#     list(g.find_edges(edgeTrue)), # Passing a string\n",
    "#     list(g.find_edges([edgeTrue.id])), # Passing a string\n",
    "#     list(g.find_edges([edgeTrue])), # Passing a string\n",
    "#     list(g.find_edges((srcNodeTrue, dstNodeTrue))), \n",
    "#     list(g.find_edges([(srcNodeTrue, dstNodeTrue)]))\n",
    "# ]\n",
    "\n",
    "# neg_results = [\n",
    "#     list(g.find_edges(edgeFalse.id)), # Passing a string\n",
    "#     list(g.find_edges(edgeFalse)), # Passing a string\n",
    "#     list(g.find_edges([edgeFalse.id])), # Passing a string\n",
    "#     list(g.find_edges([edgeFalse])), # Passing a string\n",
    "#     list(g.find_edges((nodeTrue, nodeFalse))), \n",
    "#     list(g.find_edges([(nodeTrue, nodeFalse)])),\n",
    "#     list(g.find_edges((nodeFalse, nodeTrue))), \n",
    "#     list(g.find_edges([(nodeFalse, nodeTrue)]))    \n",
    "# ]\n",
    "\n",
    "# N = len(pos_results)\n",
    "# M = len(neg_results)\n",
    "\n",
    "# assert all([len(pos_results[i]) == 1 for i in range(N)])\n",
    "# assert all([pos_results[i] for i in range(N)])\n",
    "# assert all([len(neg_results[i]) == 0 for i in range(M)])\n",
    "# assert all([not neg_results[i] for i in range(M)])"
   ]
  },
  {
   "cell_type": "code",
   "execution_count": null,
   "metadata": {},
   "outputs": [],
   "source": []
  },
  {
   "cell_type": "code",
   "execution_count": null,
   "metadata": {},
   "outputs": [],
   "source": []
  },
  {
   "cell_type": "code",
   "execution_count": null,
   "metadata": {},
   "outputs": [],
   "source": []
  }
 ],
 "metadata": {
  "kernelspec": {
   "display_name": "Python 3",
   "language": "python",
   "name": "python3"
  },
  "language_info": {
   "codemirror_mode": {
    "name": "ipython",
    "version": 3
   },
   "file_extension": ".py",
   "mimetype": "text/x-python",
   "name": "python",
   "nbconvert_exporter": "python",
   "pygments_lexer": "ipython3",
   "version": "3.6.5"
  }
 },
 "nbformat": 4,
 "nbformat_minor": 2
}
