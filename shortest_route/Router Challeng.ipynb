{
 "cells": [
  {
   "cell_type": "code",
   "execution_count": 7,
   "metadata": {},
   "outputs": [],
   "source": [
    "from typing import List\n",
    "from collections import namedtuple\n",
    "import hashlib\n",
    "\n",
    "Node = namedtuple('nodes', ['id'])\n",
    "Edge = namedtuple('edge', ['id', 'src', 'dst', 'length'])"
   ]
  },
  {
   "cell_type": "code",
   "execution_count": 10,
   "metadata": {},
   "outputs": [],
   "source": [
    "with open('../data/shortest_route/citymapper-coding-test-graph.dat', 'r') as f:\n",
    "    data = f.readlines()"
   ]
  },
  {
   "cell_type": "code",
   "execution_count": 11,
   "metadata": {},
   "outputs": [],
   "source": [
    "nodes = []\n",
    "edges = []\n",
    "\n",
    "# Number of vertices\n",
    "N = int(data[0].strip(\"\\n\"))\n",
    "for i in range(1, N+1):\n",
    "    nodes.append(Node(int(data[i].strip(\"\\n\"))))\n",
    "\n",
    "# Number of edges\n",
    "E = int(data[N+1])\n",
    "for i in range(N+2, E+1):\n",
    "    src, dst, length = data[i].strip(\"\\n\").split(\" \")\n",
    "    e_id = hashlib.sha256(\"{}_{}\".format(src,dst).encode()).hexdigest()\n",
    "    edges.append(Edge(e_id, int(src), int(dst), int(length)))"
   ]
  },
  {
   "cell_type": "code",
   "execution_count": 29,
   "metadata": {},
   "outputs": [],
   "source": [
    "\n",
    "class CityMapperGraph:\n",
    "    \n",
    "    def __init__(self, nodes: List[Node], edges: List[Edge]):\n",
    "        self.nodes = nodes\n",
    "        self.edges = edges\n",
    "        self.adjacency = {}\n",
    "        \n",
    "    def _populate(self):\n",
    "        for e in self.edges:\n",
    "            # Populate adjacency list for source -> destination\n",
    "            if e.src in self.adjacency:\n",
    "                self.adjacency[e.src].update([e.dst])\n",
    "            else:\n",
    "                self.adjacency[e.src] = set([e.dst])\n",
    "            # Populate adjacency list for destination -> source\n",
    "            if e.dst in self.adjacency:\n",
    "                self.adjacency[e.dst].update([e.src])\n",
    "            else:\n",
    "                self.adjacency[e.dst] = set([e.src])\n",
    "            "
   ]
  },
  {
   "cell_type": "code",
   "execution_count": 30,
   "metadata": {},
   "outputs": [],
   "source": [
    "graph = CityMapperGraph(nodes=nodes, edges=edges)\n",
    "graph._populate()"
   ]
  },
  {
   "cell_type": "code",
   "execution_count": 31,
   "metadata": {},
   "outputs": [
    {
     "data": {
      "text/plain": [
       "2516"
      ]
     },
     "execution_count": 31,
     "metadata": {},
     "output_type": "execute_result"
    }
   ],
   "source": [
    "len(graph.adjacency)"
   ]
  },
  {
   "cell_type": "code",
   "execution_count": null,
   "metadata": {},
   "outputs": [],
   "source": []
  }
 ],
 "metadata": {
  "kernelspec": {
   "display_name": "Python 3",
   "language": "python",
   "name": "python3"
  },
  "language_info": {
   "codemirror_mode": {
    "name": "ipython",
    "version": 3
   },
   "file_extension": ".py",
   "mimetype": "text/x-python",
   "name": "python",
   "nbconvert_exporter": "python",
   "pygments_lexer": "ipython3",
   "version": "3.6.5"
  }
 },
 "nbformat": 4,
 "nbformat_minor": 2
}
