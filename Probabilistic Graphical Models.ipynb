{
 "cells": [
  {
   "cell_type": "code",
   "execution_count": 1,
   "metadata": {},
   "outputs": [
    {
     "name": "stdout",
     "output_type": "stream",
     "text": [
      "Populating the interactive namespace from numpy and matplotlib\n"
     ]
    }
   ],
   "source": [
    "%pylab inline\n",
    "from pomegranate import *"
   ]
  },
  {
   "cell_type": "code",
   "execution_count": 61,
   "metadata": {},
   "outputs": [],
   "source": [
    "driver_quality = DiscreteDistribution( { 'Good': 0.80, 'Bad': 0.20 } )\n",
    "driving_history = DiscreteDistribution( { 'PreviousAccident': 0.5, 'NoPreviousAccident': 0.5 } )\n",
    "\n",
    "vehicle_size = DiscreteDistribution( { 'Compact': 0.65, 'SUV': 0.35 } )\n",
    "vehicle_year = DiscreteDistribution( { 'After2000': 0.60, 'Before2000': 0.40 } )\n",
    "\n",
    "accident = ConditionalProbabilityTable(\n",
    "    [[ 'Good', 'Compact', 'After2000', 'Severe', 0.01 ],\n",
    "     [ 'Good', 'Compact', 'After2000', 'Mild', 0.04 ],\n",
    "     [ 'Good', 'Compact', 'After2000', 'None', 0.95 ],\n",
    "     [ 'Bad', 'Compact', 'After2000', 'Severe', 0.03 ],\n",
    "     [ 'Bad', 'Compact', 'After2000', 'Mild', 0.12 ],\n",
    "     [ 'Bad', 'Compact', 'After2000', 'None', 0.85 ],     \n",
    "     [ 'Good', 'SUV', 'After2000', 'Severe', 0.01 ],\n",
    "     [ 'Good', 'SUV', 'After2000', 'Mild', 0.14 ],\n",
    "     [ 'Good', 'SUV', 'After2000', 'None', 0.85 ],\n",
    "     [ 'Bad', 'SUV', 'After2000', 'Severe', 0.02 ],\n",
    "     [ 'Bad', 'SUV', 'After2000', 'Mild', 0.23 ],\n",
    "     [ 'Bad', 'SUV', 'After2000', 'None', 0.75 ],     \n",
    "     [ 'Good', 'Compact', 'Before2000', 'Severe', 0.05 ],\n",
    "     [ 'Good', 'Compact', 'Before2000', 'Mild', 0.10 ],\n",
    "     [ 'Good', 'Compact', 'Before2000', 'None', 0.85 ],\n",
    "     [ 'Bad', 'Compact', 'Before2000', 'Severe', 0.10 ],\n",
    "     [ 'Bad', 'Compact', 'Before2000', 'Mild', 0.15 ],\n",
    "     [ 'Bad', 'Compact', 'Before2000', 'None', 0.75 ],     \n",
    "     [ 'Good', 'SUV', 'Before2000', 'Severe', 0.02 ],\n",
    "     [ 'Good', 'SUV', 'Before2000', 'Mild', 0.23 ],\n",
    "     [ 'Good', 'SUV', 'Before2000', 'None', 0.75 ],\n",
    "     [ 'Bad', 'SUV', 'Before2000', 'Severe', 0.05 ],\n",
    "     [ 'Bad', 'SUV', 'Before2000', 'Mild', 0.30 ],\n",
    "     [ 'Bad', 'SUV', 'Before2000', 'None', 0.65 ]], [driver_quality, vehicle_size, vehicle_year])\n",
    "\n",
    "cost = ConditionalProbabilityTable(\n",
    "    [[ 'Severe', 'Low', 0.2 ],\n",
    "     [ 'Mild', 'Low', 0.4 ],\n",
    "     [ 'None', 'Low', 0.95 ],\n",
    "     [ 'Severe', 'High', 0.9 ],\n",
    "     [ 'Mild', 'High', 0.6 ],\n",
    "     [ 'None', 'High', 0.05 ]], [accident])\n"
   ]
  },
  {
   "cell_type": "code",
   "execution_count": 62,
   "metadata": {},
   "outputs": [],
   "source": [
    "s0 = Node( vehicle_year, name=\"vehicle_year\" )\n",
    "s1 = Node( vehicle_size, name=\"vehicle_size\" )\n",
    "s2 = Node( driver_quality, name=\"driver_quality\" )\n",
    "s3 = Node( accident, name=\"accident\" )\n",
    "s4 = Node( cost, name=\"cost\" )\n",
    "network = BayesianNetwork( \"Insurance\" )\n",
    "network.add_states(s0, s1, s2, s3, s4)\n",
    "network.add_edge( s0, s3 )\n",
    "network.add_edge( s1, s3 )\n",
    "network.add_edge( s2, s3 )\n",
    "network.add_edge( s3, s4 )"
   ]
  },
  {
   "cell_type": "code",
   "execution_count": 63,
   "metadata": {},
   "outputs": [
    {
     "data": {
      "image/png": "[encoded data removed]",
      "text/plain": [
       "<Figure size 432x288 with 1 Axes>"
      ]
     },
     "metadata": {},
     "output_type": "display_data"
    }
   ],
   "source": [
    "network.bake()\n",
    "network.plot()"
   ]
  },
  {
   "cell_type": "code",
   "execution_count": null,
   "metadata": {},
   "outputs": [],
   "source": []
  }
 ],
 "metadata": {
  "kernelspec": {
   "display_name": "Python 3",
   "language": "python",
   "name": "python3"
  },
  "language_info": {
   "codemirror_mode": {
    "name": "ipython",
    "version": 3
   },
   "file_extension": ".py",
   "mimetype": "text/x-python",
   "name": "python",
   "nbconvert_exporter": "python",
   "pygments_lexer": "ipython3",
   "version": "3.7.0"
  }
 },
 "nbformat": 4,
 "nbformat_minor": 2
}
